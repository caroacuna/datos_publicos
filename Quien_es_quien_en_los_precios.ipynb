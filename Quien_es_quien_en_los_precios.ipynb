{
 "cells": [
  {
   "cell_type": "code",
   "execution_count": 191,
   "id": "graphic-singles",
   "metadata": {},
   "outputs": [],
   "source": [
    "import pandas as pd\n",
    "import numpy as np\n",
    "from datetime import datetime\n",
    "import matplotlib.pyplot as plt\n",
    "from pyspark.sql import SparkSession\n",
    "from pyspark.context import SparkContext\n",
    "from pyspark.sql import functions as F"
   ]
  },
  {
   "cell_type": "markdown",
   "id": "illegal-andrew",
   "metadata": {},
   "source": [
    "Primero se inicializa la SparkSession\n",
    "\n",
    "Nota: Primero probare sin modificar la configuración inicial y ya si es necesario lo revisare en este link\n",
    "https://spark.apache.org/docs/latest/configuration.html\n"
   ]
  },
  {
   "cell_type": "code",
   "execution_count": 2,
   "id": "cleared-flesh",
   "metadata": {},
   "outputs": [],
   "source": [
    "ss = (SparkSession.builder.appName(\"ejercicio_pyspark\").getOrCreate())"
   ]
  },
  {
   "cell_type": "code",
   "execution_count": 8,
   "id": "opening-neighbor",
   "metadata": {},
   "outputs": [],
   "source": [
    "data = ss.read.csv('profeco/all_data.csv', header='true') ## 11.6GB de información"
   ]
  },
  {
   "cell_type": "markdown",
   "id": "everyday-fifth",
   "metadata": {},
   "source": [
    "## Procesamiento de los datos"
   ]
  },
  {
   "cell_type": "markdown",
   "id": "israeli-hamburg",
   "metadata": {},
   "source": [
    "### ¿Cuántos registros hay?"
   ]
  },
  {
   "cell_type": "code",
   "execution_count": 9,
   "id": "skilled-slide",
   "metadata": {},
   "outputs": [
    {
     "name": "stdout",
     "output_type": "stream",
     "text": [
      "35275384\n"
     ]
    }
   ],
   "source": [
    "print(data.count())"
   ]
  },
  {
   "cell_type": "markdown",
   "id": "secure-induction",
   "metadata": {},
   "source": [
    "### ¿Cuántas categorías?"
   ]
  },
  {
   "cell_type": "code",
   "execution_count": 10,
   "id": "permanent-riding",
   "metadata": {},
   "outputs": [
    {
     "data": {
      "text/plain": [
       "['producto',\n",
       " 'presentacion',\n",
       " 'marca',\n",
       " 'categoria',\n",
       " 'catalogo',\n",
       " 'precio',\n",
       " 'fechaRegistro',\n",
       " 'cadenaComercial',\n",
       " 'giro',\n",
       " 'nombreComercial',\n",
       " 'direccion',\n",
       " 'estado',\n",
       " 'municipio',\n",
       " 'latitud',\n",
       " 'longitud']"
      ]
     },
     "execution_count": 10,
     "metadata": {},
     "output_type": "execute_result"
    }
   ],
   "source": [
    "data.columns"
   ]
  },
  {
   "cell_type": "code",
   "execution_count": 16,
   "id": "foreign-inflation",
   "metadata": {},
   "outputs": [
    {
     "name": "stdout",
     "output_type": "stream",
     "text": [
      "+-------------------------+\n",
      "|count(DISTINCT categoria)|\n",
      "+-------------------------+\n",
      "|                       40|\n",
      "+-------------------------+\n",
      "\n"
     ]
    }
   ],
   "source": [
    "data.select(F.countDistinct(\"categoria\")).show()"
   ]
  },
  {
   "cell_type": "markdown",
   "id": "physical-detective",
   "metadata": {},
   "source": [
    "### ¿Cuántas cadenas comerciales están siendo monitoreadas?"
   ]
  },
  {
   "cell_type": "code",
   "execution_count": 17,
   "id": "behavioral-degree",
   "metadata": {},
   "outputs": [
    {
     "name": "stdout",
     "output_type": "stream",
     "text": [
      "+-------------------------------+\n",
      "|count(DISTINCT cadenaComercial)|\n",
      "+-------------------------------+\n",
      "|                            606|\n",
      "+-------------------------------+\n",
      "\n"
     ]
    }
   ],
   "source": [
    "data.select(F.countDistinct(\"cadenaComercial\")).show()"
   ]
  },
  {
   "cell_type": "markdown",
   "id": "tropical-european",
   "metadata": {},
   "source": [
    "### ¿Cómo podrías determinar la calidad de los datos? ¿Detectaste algún tipo de inconsistencia o error en la fuente?"
   ]
  },
  {
   "cell_type": "markdown",
   "id": "lesser-speaking",
   "metadata": {},
   "source": [
    "Pues sería útil que en la fuente indicaran el número de datos que debería haber en la base de datos, las columnas con su tipo de dato y descripción. \n",
    "Sobre incosistencia se me  hizo raro que cuando extraje el archivo zip solo se descargaron 11.6 GB sin embargo cuando te metes al archivo zip dice la tabla pesa 20.7 GB. No se que ocurrió"
   ]
  },
  {
   "cell_type": "markdown",
   "id": "straight-movement",
   "metadata": {},
   "source": [
    "### Cuáles son los productos más monitoreados en cada entidad?"
   ]
  },
  {
   "cell_type": "code",
   "execution_count": 43,
   "id": "union-kinase",
   "metadata": {},
   "outputs": [],
   "source": [
    "conteo_estado_prod = data.groupBy(['estado', 'producto']).count()"
   ]
  },
  {
   "cell_type": "code",
   "execution_count": 83,
   "id": "sound-macintosh",
   "metadata": {},
   "outputs": [],
   "source": [
    "conteo_max = conteo_estado_prod.groupBy('estado').agg(F.max(conteo_estado_prod['count']).alias('max_count')).withColumnRenamed('estado', 'estado_')"
   ]
  },
  {
   "cell_type": "code",
   "execution_count": 86,
   "id": "clear-notification",
   "metadata": {},
   "outputs": [],
   "source": [
    "prod_top_entidad = (conteo_estado_prod.join(conteo_max,(F.col('estado') == F.col('estado_')) & (F.col('count') == F.col('max_count')))\n",
    "                    .drop('estado_').drop('max_count'))  "
   ]
  },
  {
   "cell_type": "code",
   "execution_count": 88,
   "id": "final-baptist",
   "metadata": {},
   "outputs": [
    {
     "name": "stdout",
     "output_type": "stream",
     "text": [
      "+--------------------+--------------------+------+--------------------+---------+\n",
      "|              estado|            producto| count|             estado_|max_count|\n",
      "+--------------------+--------------------+------+--------------------+---------+\n",
      "|COAHUILA DE ZARAGOZA|   DETERGENTE P/ROPA|  8272|COAHUILA DE ZARAGOZA|     8272|\n",
      "|              COLIMA|   DETERGENTE P/ROPA| 11557|              COLIMA|    11557|\n",
      "|              PUEBLA|            REFRESCO| 19151|              PUEBLA|    19151|\n",
      "|        QUINTANA ROO|           LAVADORAS| 14730|        QUINTANA ROO|    14730|\n",
      "|             SINALOA|   DETERGENTE P/ROPA| 19312|             SINALOA|    19312|\n",
      "|            TLAXCALA|   DETERGENTE P/ROPA| 33021|            TLAXCALA|    33021|\n",
      "|      AGUASCALIENTES|   DETERGENTE P/ROPA|  4074|      AGUASCALIENTES|     4074|\n",
      "|             TABASCO|   DETERGENTE P/ROPA| 17385|             TABASCO|    17385|\n",
      "|              OAXACA|LECHE ULTRAPASTEU...| 12316|              OAXACA|    12316|\n",
      "|           QUERÉTARO|LECHE ULTRAPASTEU...| 19705|           QUERÉTARO|    19705|\n",
      "|          TAMAULIPAS|   DETERGENTE P/ROPA|  3141|          TAMAULIPAS|     3141|\n",
      "|          NUEVO LEÓN|   DETERGENTE P/ROPA| 36914|          NUEVO LEÓN|    36914|\n",
      "|     SAN LUIS POTOSÍ|                 FUD|  1574|     SAN LUIS POTOSÍ|     1574|\n",
      "|             HIDALGO|   DETERGENTE P/ROPA| 11620|             HIDALGO|    11620|\n",
      "|     BAJA CALIFORNIA|            REFRESCO|  6101|     BAJA CALIFORNIA|     6101|\n",
      "|              MÉXICO|            REFRESCO|113057|              MÉXICO|   113057|\n",
      "|       ESQ. SUR 125\"|  PAN BLANCO BOLILLO|   115|       ESQ. SUR 125\"|      115|\n",
      "| BAJA CALIFORNIA SUR|            REFRESCO|  3582| BAJA CALIFORNIA SUR|     3582|\n",
      "|          GUANAJUATO|            REFRESCO| 29664|          GUANAJUATO|    29664|\n",
      "|           CHIHUAHUA|   DETERGENTE P/ROPA|  2979|           CHIHUAHUA|     2979|\n",
      "+--------------------+--------------------+------+--------------------+---------+\n",
      "only showing top 20 rows\n",
      "\n"
     ]
    }
   ],
   "source": [
    "prod_top_entidad.show()"
   ]
  },
  {
   "cell_type": "markdown",
   "id": "advisory-generation",
   "metadata": {},
   "source": [
    "### ¿Cuál es la cadena comercial con mayor variedad de productos monitoreados?"
   ]
  },
  {
   "cell_type": "code",
   "execution_count": 92,
   "id": "beautiful-navigator",
   "metadata": {},
   "outputs": [
    {
     "data": {
      "text/plain": [
       "[Row(cadenaComercial='SORIANA', productos_distintos=1037)]"
      ]
     },
     "execution_count": 92,
     "metadata": {},
     "output_type": "execute_result"
    }
   ],
   "source": [
    "(data.groupby('cadenaComercial').agg(F.countDistinct('producto').alias('productos_distintos'))\n",
    " .sort(F.col(\"productos_distintos\").desc()).head(1))"
   ]
  },
  {
   "cell_type": "markdown",
   "id": "minute-barbados",
   "metadata": {},
   "source": [
    "## Análisis exploratorio"
   ]
  },
  {
   "cell_type": "markdown",
   "id": "standing-caribbean",
   "metadata": {},
   "source": [
    "### Genera una canasta de productos básicos que te permita comparar los precios geográfica y temporalmente"
   ]
  },
  {
   "cell_type": "code",
   "execution_count": 110,
   "id": "celtic-myrtle",
   "metadata": {},
   "outputs": [
    {
     "data": {
      "text/plain": [
       "['CHICHAROS EN LATA',\n",
       " 'RADIOGRABADORAS',\n",
       " 'MUCOSOLVAN',\n",
       " 'ADVIL',\n",
       " 'VARIOS',\n",
       " 'VIDEOJUEGOS',\n",
       " 'SUPRADOL',\n",
       " 'LUTORAL',\n",
       " 'GEODON IM',\n",
       " 'LANOXIN',\n",
       " 'GYNOVIN',\n",
       " 'GARAMICINA',\n",
       " 'KAOMYCIN',\n",
       " 'SURIMI',\n",
       " 'PETO',\n",
       " 'LIBRO DE TEXTO DE CIVISMO',\n",
       " 'PIERNA',\n",
       " 'KIR. LUNCH',\n",
       " 'ELECTROLIT. SUERO REHIDRATANTE',\n",
       " 'AFUMIX',\n",
       " 'BEDOYECTA',\n",
       " 'MICARDIS PLUS',\n",
       " 'TYLEX 750',\n",
       " 'VERMOX PLUS',\n",
       " 'MELOXICAM METOCARBAMOL',\n",
       " 'CHOCO KRISPIS',\n",
       " 'PRAVASTATINA',\n",
       " 'FRIJOLES',\n",
       " 'SPECIAL K',\n",
       " 'SAN RAFAEL. REAL',\n",
       " 'POSIPEN',\n",
       " 'POLVO PARA BEBIDAS SABOR CHOCOLATE',\n",
       " 'CARNE MOLIDA DE RES',\n",
       " 'ACEITUNA. GORDAL',\n",
       " 'CLARITYNE',\n",
       " 'PARACETAMOL',\n",
       " 'GARBANZA',\n",
       " 'ZENTEL',\n",
       " 'PAMPANILLO',\n",
       " 'FOLDERS',\n",
       " 'CHILES LARGOS EN ESCABECHE',\n",
       " 'LISINOPRIL',\n",
       " 'CAFE TOSTADO Y MOLIDO',\n",
       " 'GELATINA EN POLVO',\n",
       " 'CHOCOLATE EN TABLILLAS',\n",
       " 'NOCHE BUENA CHALET',\n",
       " 'DETERGENTE P/ROPA Y TRASTES',\n",
       " 'PEDIALYTE. ELECTROLITOS ORALES',\n",
       " 'MYCOSPOR',\n",
       " 'COMPAS',\n",
       " 'BLOCK',\n",
       " 'CUADERNO FORMA COLLEGE',\n",
       " 'ELATEC',\n",
       " 'KLARICYD 12 H',\n",
       " 'DICLOFENACO',\n",
       " 'COMPLEJO B/ DEXAMETASONA, LIDOCAINA',\n",
       " 'ZACTOS',\n",
       " 'OMEPRAZOL',\n",
       " 'MELOXICAM',\n",
       " 'DORIXINA FORTE',\n",
       " 'AMARYL M',\n",
       " 'PAÑALES DESECHABLES',\n",
       " 'ZOVIRAX',\n",
       " 'GRASA COMESTIBLE',\n",
       " 'MANTEQUILLA',\n",
       " 'CALCIGENOL DOBLE',\n",
       " 'CAPOTENA',\n",
       " 'GRANEODIN',\n",
       " 'NESTLE',\n",
       " 'XL-DOL',\n",
       " 'VALIUM',\n",
       " 'SALCHICHA',\n",
       " 'SEKRETOVIT EX',\n",
       " 'CUADERNO FORMA FRANCESA. COSIDO',\n",
       " 'TURRON',\n",
       " 'COMBIVENT. RESPIMAT',\n",
       " 'GAMMADOL',\n",
       " 'RANITIDINA',\n",
       " 'SIES',\n",
       " 'VERDILLO',\n",
       " 'NIMESULIDA',\n",
       " 'TRAMADOL',\n",
       " 'FRIJOL',\n",
       " 'CHILES EN LATA',\n",
       " 'ESTUFAS',\n",
       " 'ESMERALDA',\n",
       " 'EXTRACTORES DE JUGOS Y EXPRIMIDORES',\n",
       " 'COLIFLOR',\n",
       " 'FLAN',\n",
       " 'AMBROXOL',\n",
       " 'CEPOREX',\n",
       " 'ENSERES DOMESTICOS',\n",
       " 'INHIBITRON',\n",
       " 'RISPERDAL',\n",
       " 'CALAMAR',\n",
       " 'COCHITO',\n",
       " 'CLARITROMICINA',\n",
       " 'GLIBENCLAMIDA',\n",
       " 'LACTACYD',\n",
       " 'MICONAZOL',\n",
       " 'NISTATINA',\n",
       " 'ORLISTAT',\n",
       " 'HORTALIZAS CONGELADAS',\n",
       " 'DURAZNOS EN ALMIBAR',\n",
       " 'POLVO P/HORNEAR',\n",
       " 'SHAMPOO PARA BEBES Y NIÑOS',\n",
       " 'CEBOLLA',\n",
       " 'MIEL DE ABEJA',\n",
       " 'TORONJA',\n",
       " 'CARBAMAZEPINA',\n",
       " 'AUTOPISTAS',\n",
       " 'ELEQUINE',\n",
       " 'SALMON',\n",
       " 'COLACION',\n",
       " 'COCINERO',\n",
       " 'TENHUAYACA',\n",
       " 'CONTROLIP',\n",
       " 'CEFAXONA I.M.',\n",
       " 'HUMULIN  N. INSULINA HUMANA',\n",
       " 'PANTOZOL',\n",
       " 'OROXADIN',\n",
       " 'TECTA',\n",
       " 'SOLDRIN OTICO',\n",
       " 'LIDOCAINA CON HIDROCORTISONA',\n",
       " 'TRAVATAN',\n",
       " 'REDUSTAT',\n",
       " 'LOSARTÁN',\n",
       " 'TINTE PARA EL CABELLO',\n",
       " 'ACEITUNA. RELLENA CON PIMIENTO',\n",
       " 'DALACIN V',\n",
       " 'CHICHAROS',\n",
       " 'HORNO ELECTRICO',\n",
       " 'ATACAND PLUS',\n",
       " 'ALPINO. PAVINO',\n",
       " 'UVA',\n",
       " 'MOTRIN',\n",
       " 'SEDALMERCK',\n",
       " 'JUGUETES MONTABLES',\n",
       " 'ANTIFLU-DES',\n",
       " 'CHILE SECO',\n",
       " 'PREMARIN',\n",
       " 'MICRORGAN',\n",
       " 'DIPROSPAN',\n",
       " 'CUADERNO PROFESIONAL C/ESP.',\n",
       " 'AMBROXOL CLENBUTEROL',\n",
       " 'DESENFRIOL-ITO PLUS',\n",
       " 'UNICLAR',\n",
       " 'ACARBOSA',\n",
       " 'VARTALON COMPOSITUM',\n",
       " 'CRAYONES',\n",
       " 'ATUN',\n",
       " 'PAN DE CAJA',\n",
       " 'CISAPRIDA',\n",
       " 'AZITROCIN',\n",
       " 'MUÑECAS ELECTRICAS',\n",
       " 'PASAS',\n",
       " 'ISOX 15d.',\n",
       " 'OMNIPEN',\n",
       " 'LAPIZ ADHESIVO',\n",
       " 'TENIS',\n",
       " 'CUADERNO FORMA FRANCESA',\n",
       " 'COMBIVENT',\n",
       " 'IMODIUM',\n",
       " 'CLORHIDRATO DE BENCIDAMINA',\n",
       " 'PHARMATON. Con Gingeng G115',\n",
       " 'NEXT. TABS',\n",
       " 'TRAMACET',\n",
       " 'SALBUTAMOL',\n",
       " 'GLYVENOL',\n",
       " 'PULMONAROM',\n",
       " 'TELMISARTAN',\n",
       " 'SOMAZINA',\n",
       " 'REDOTEX',\n",
       " 'AVENA',\n",
       " 'CREMA DENTAL',\n",
       " 'AGUA SIN GAS',\n",
       " 'BEDOYECTA-TRI',\n",
       " 'PARMA CAMPESTRE',\n",
       " 'FUD. TURKEY LINE',\n",
       " 'CAMARON SECO',\n",
       " 'MANGO',\n",
       " 'PREXIGE',\n",
       " 'AFRINEX ACTIVE',\n",
       " 'CELESTONE SOLUSPAN',\n",
       " 'DAONIL',\n",
       " 'MACRODANTINA',\n",
       " 'PLUMONES',\n",
       " 'PEGAMENTO',\n",
       " 'LIBRO DE TEXTO DE INGLES',\n",
       " 'LEBRANCHA',\n",
       " 'BOBO ESCAMA',\n",
       " 'DOLO-NEUROBION RETARD',\n",
       " 'PULMICORT',\n",
       " 'LASILACTON',\n",
       " 'MICTASOL',\n",
       " 'NOVOVARTALON',\n",
       " 'ZINTREPID',\n",
       " 'TERBINAFINA',\n",
       " 'GUAVINA',\n",
       " 'ISODINE BUCOFARINGEO',\n",
       " 'LAMOTRIGINA',\n",
       " 'STERIMAR',\n",
       " 'BOLIGRAFO',\n",
       " 'ZANAHORIA',\n",
       " 'JABON DE TOCADOR',\n",
       " 'MAIZ POZOLERO',\n",
       " 'CABEZA DE CERDO',\n",
       " 'SALSA PICANTE',\n",
       " 'SANDIA',\n",
       " 'TRENTAL',\n",
       " 'RADUCTIL',\n",
       " 'ENI',\n",
       " 'TERRAMICINA',\n",
       " 'ATIVAN',\n",
       " 'CAMISA ESCUELA OFICIAL',\n",
       " 'JEREZ',\n",
       " 'MERLUZA',\n",
       " 'DOLOCARTIGEN',\n",
       " 'BREDELIN',\n",
       " 'BI-EUGLUCON. M',\n",
       " 'FINASTERIDA',\n",
       " 'LIVIAL',\n",
       " 'LOPID',\n",
       " 'SERC 16',\n",
       " 'PICOT SAL DE UVAS',\n",
       " 'BOTETE',\n",
       " 'KRAFT. SINGLES',\n",
       " 'QUESOS TIPO AMERICANO',\n",
       " 'POSTDAY',\n",
       " 'PAPAS Y SIMILARES',\n",
       " 'PASTA PARA SOPA',\n",
       " 'PECHUGA DE POLLO',\n",
       " 'IBERO. BARCELONA',\n",
       " 'NOCHE BUENA',\n",
       " 'PRODOLINA',\n",
       " 'FELDENE',\n",
       " 'CHILES',\n",
       " 'ECTAPRIM',\n",
       " 'MOJARRA',\n",
       " 'CARPA',\n",
       " 'SUETER ESCUELA OFICIAL',\n",
       " 'FERRANINA FOL',\n",
       " 'PROGYLUTON',\n",
       " 'TOBRADEX',\n",
       " 'SUFREXAL',\n",
       " 'PARACETAMOL BUTILHIOSCINA',\n",
       " 'ENALADIL',\n",
       " 'ASPIRINA',\n",
       " 'MOSTAZA',\n",
       " 'ALL-BRAN',\n",
       " 'INSECTICIDA AEROSOL',\n",
       " 'QUESO. COTIJA',\n",
       " 'VIAGRA',\n",
       " 'AMOXICILINA',\n",
       " 'CELEBREX',\n",
       " 'BENZATINA BENCILPENICILINA',\n",
       " 'BANDERA',\n",
       " 'PELADILLAS',\n",
       " 'A.S.COR',\n",
       " 'EFEXOR XR',\n",
       " 'AZITROMICINA',\n",
       " 'AMOXICLAV. BID',\n",
       " 'SALOFALK',\n",
       " 'DEXAMETASONA',\n",
       " 'KETOROLACO',\n",
       " 'MOLE ROJO EN PASTA',\n",
       " 'PATA DE CERDO',\n",
       " 'BEBIDAS HIDRATANTES',\n",
       " 'RASTRILLOS DESECHABLES',\n",
       " 'REPUESTOS DE NAVAJAS',\n",
       " 'JICAMA',\n",
       " 'LECHE EVAPORADA',\n",
       " 'BISOLVON INFANTIL',\n",
       " 'CLORO-TRIMETON',\n",
       " 'CHARAL',\n",
       " 'ELANTAN',\n",
       " 'ONICIT',\n",
       " 'BESUGO',\n",
       " 'SIDRA',\n",
       " 'ANGULA',\n",
       " 'ARCOXIA',\n",
       " 'HISTIACIL NF',\n",
       " 'PANTOPRAZOL',\n",
       " '\"PREMARIN. CREMA \"\"\"\"V\"\"\"\"\"',\n",
       " 'QG5',\n",
       " 'ZOFILIP',\n",
       " 'VENALOT DEPOT',\n",
       " 'PARACETAMOL/CAFEINA',\n",
       " 'SUBSALICILATO DE BISMUTO',\n",
       " 'AMPLIRON DUO',\n",
       " 'BONVIVA',\n",
       " 'NÚCLEO C.M.P. FORTE',\n",
       " 'VARITON',\n",
       " 'SISTEMA GB. Solución Alopecia',\n",
       " 'SAN RAFAEL',\n",
       " 'CATAFLAM',\n",
       " 'NOPAL',\n",
       " 'VIDEOCAMARAS',\n",
       " 'CLAVULIN',\n",
       " 'ROCEPHIN IM',\n",
       " 'MANDARINA',\n",
       " 'JUGUETES DE DESTREZA',\n",
       " 'XL3',\n",
       " 'TAMIFLU',\n",
       " 'VILLAJAIBA',\n",
       " 'AVELLANA',\n",
       " 'ANGELIQ A',\n",
       " 'BUSCAPINA COMPOSITUM',\n",
       " 'ELECTROLITOS ORALES',\n",
       " 'PEMIX',\n",
       " 'MICARDIS',\n",
       " 'SUEROX',\n",
       " 'LOSEC A-20',\n",
       " 'TENORMIN',\n",
       " 'SEVERIN N.F.',\n",
       " 'NOCHEBUENA',\n",
       " 'LIMON',\n",
       " 'NORVAS',\n",
       " 'MILANESA DE CERDO',\n",
       " 'CAÑA',\n",
       " 'CHILE',\n",
       " 'BENZETACIL',\n",
       " 'CANELA',\n",
       " 'EJOTE',\n",
       " 'MUÑECOS',\n",
       " 'MUÑECOS ELECTRICOS',\n",
       " 'CAFETERAS',\n",
       " 'CLAVO',\n",
       " 'VIRAZIDE',\n",
       " 'ABILIFY',\n",
       " 'LISA',\n",
       " 'LENGUADO',\n",
       " 'BICOLOR',\n",
       " 'LIBRO DE TEXTO DE ESPANOL',\n",
       " 'CANGREJO',\n",
       " 'AMARYL',\n",
       " 'KEFLEX',\n",
       " 'NIKZON',\n",
       " 'LOSARTAN HIDROCLOROTIAZIDA',\n",
       " 'PROSCAR',\n",
       " 'LINCOMICINA',\n",
       " 'QUINFAMIDA ALBENDAZOL',\n",
       " 'FLUCONAZOL',\n",
       " 'ENALAPRIL',\n",
       " 'BETAMETASONA',\n",
       " 'NEXIUM',\n",
       " 'PATANOL',\n",
       " 'KETOCONAZOL',\n",
       " 'OLANZAPINA',\n",
       " 'BROCOLI',\n",
       " 'PLANCHAS',\n",
       " 'TESALON',\n",
       " 'CAPERUCITA',\n",
       " 'ARROZ',\n",
       " 'CIPROFLOX',\n",
       " 'TABALON 400',\n",
       " 'TOCINO AHUMADO',\n",
       " 'NOVADOR',\n",
       " 'CACAHUATES',\n",
       " 'METODINE',\n",
       " 'BINOTAL',\n",
       " 'PIROXICAM',\n",
       " 'CALLO DE HACHA',\n",
       " 'RUBIA',\n",
       " 'CUADERNO FORMA ITALIANA C/ESP.',\n",
       " 'DIMEGAN-D',\n",
       " 'DIANE',\n",
       " 'AMANTADINA CLORFENAMINA PARACETAMOL',\n",
       " 'LORATADINA AMBROXOL',\n",
       " 'SECOTEX OCAS',\n",
       " 'LEXAPRO',\n",
       " 'SERTRALINA',\n",
       " 'LIZETA',\n",
       " 'DIMENHIDRINATO',\n",
       " 'KLARICID H.P.',\n",
       " 'GALLETAS',\n",
       " 'ZWAN',\n",
       " 'YOGHURT',\n",
       " 'CERVEZA',\n",
       " 'SISTEMAS DE TEATRO EN CASA HOME THEATER',\n",
       " 'BETABEL',\n",
       " 'DOLAC',\n",
       " 'AVIANT',\n",
       " 'NORDET',\n",
       " 'BIPASMIN COMPUESTO N',\n",
       " 'PAPAYA',\n",
       " 'ALCOHOL DESNATURALIZADO 70 G.L.',\n",
       " 'SERVITRIM F',\n",
       " 'MOTOS Y CARROS MECANICOS',\n",
       " 'MUÑECAS',\n",
       " 'JUGUETES (JUEGOS DE MESA)',\n",
       " 'MOTOS Y CARROS ELECTRICOS',\n",
       " 'FIRAC',\n",
       " 'TETREX',\n",
       " 'ALIMENTO PREPARADO P/NINOS',\n",
       " 'CARACOL',\n",
       " 'CASTAÑAS',\n",
       " 'CRESTOR',\n",
       " 'DIABION',\n",
       " 'FOSAMAX PLUS',\n",
       " 'FERRANINA-COMPLEX',\n",
       " 'CARNITINA',\n",
       " 'NEO-MELUBRINA. INFANTIL',\n",
       " 'IODOPOVIDINA',\n",
       " 'TRIMEBUTINA',\n",
       " 'LORATADINA FENILEFRINA',\n",
       " 'JANUVIA',\n",
       " 'CIRUELA PASA',\n",
       " 'PROZAC 20',\n",
       " 'HARINA DE TRIGO',\n",
       " 'PASTELILLOS',\n",
       " 'PIMIENTO',\n",
       " 'QUESO OAXACA',\n",
       " 'EDUCATIVOS',\n",
       " 'BROXOL',\n",
       " 'VOLTAREN RETARD',\n",
       " 'CAZON',\n",
       " 'CALCULADORAS',\n",
       " 'ARTRIDOL',\n",
       " 'DAFLON 500 M.',\n",
       " 'DACTIL OB',\n",
       " 'AMOXICILINA, ACIDO CLAVULANICO',\n",
       " 'VICK VAPORUB',\n",
       " 'SERETIDE DISKUS',\n",
       " 'KANK-A',\n",
       " 'SENOSIDOS A-B',\n",
       " 'TACEX IM',\n",
       " 'MERMELADA',\n",
       " 'LECHE PASTEURIZADA',\n",
       " 'PARMA. SABORI',\n",
       " 'AFUNGIL',\n",
       " 'CHAMPIÑON',\n",
       " 'GEL ANTIBACTERIAL ZUUM',\n",
       " 'SENSIBIT',\n",
       " 'QUESO DE PUERCO',\n",
       " 'FLAGYL',\n",
       " 'PLIEGOS DE PAPEL',\n",
       " 'COLOR CORTO',\n",
       " 'BUTILHIOSCINA',\n",
       " 'CHURRUMAIS CON LIMONCITO',\n",
       " 'CYTOTEC',\n",
       " 'DICLOFENACO. VITAMINAS B1, B6 Y B12',\n",
       " 'SELOPRES ZOK',\n",
       " 'ULSEN PCS',\n",
       " 'SARDINA',\n",
       " 'JAMAICA',\n",
       " 'ILOSONE CAPSULAS',\n",
       " 'GRANADA',\n",
       " 'DICAL',\n",
       " 'LONOL NEBULIZADOR',\n",
       " 'LANGOSTINO',\n",
       " 'HUACHINANGO',\n",
       " 'LOBINA',\n",
       " 'TILAPIA',\n",
       " 'DATIL',\n",
       " 'PESCADO SECO SALADO',\n",
       " 'BACTROBAN',\n",
       " 'CLOTRIMAZOL DUAL',\n",
       " 'RIVOTRIL. GOTAS',\n",
       " 'SPORASEC',\n",
       " 'STUGERON FORTE',\n",
       " 'DAGLA',\n",
       " 'LECHE ULTRAPASTEURIZADA',\n",
       " 'IBERO',\n",
       " 'TOALLITA HUMEDA LIMPIADORA',\n",
       " 'CEVALIN',\n",
       " 'CHUCUMITE',\n",
       " 'SARGO',\n",
       " 'MUNECAS',\n",
       " 'CAFIASPIRINA',\n",
       " 'ALIN',\n",
       " 'EVRA',\n",
       " 'ACIDO FOLICO',\n",
       " 'RINELON',\n",
       " 'ZYLOPRIM',\n",
       " 'MEDROXIPROGESTERONA/ ESTRADIOL',\n",
       " 'METRONIDAZOL, NISTATINA, FLUOCINOLONA',\n",
       " 'BLOPRESS PLUS',\n",
       " 'BEXIDENT ENCIAS',\n",
       " 'CALCITRIOL',\n",
       " 'PIÑA EN ALMIBAR',\n",
       " 'LOS VOLCANES',\n",
       " 'CONCENTRADO DE POLLO',\n",
       " 'PLATANO',\n",
       " 'CHULETA DE RES/CHULETA COSTILLA/CHULETON',\n",
       " 'GALLETAS SALADAS',\n",
       " 'BRAN FLAKES',\n",
       " 'BISTEC DE ESPALDILLA DE RES',\n",
       " 'VENTILADORES',\n",
       " 'NIMBEX',\n",
       " 'DICETEL',\n",
       " 'BREDON',\n",
       " 'LERTAMINE',\n",
       " 'PULPO',\n",
       " 'MARCADORES',\n",
       " 'GURRUBATA',\n",
       " 'BACTRIM F',\n",
       " 'DIOVAN',\n",
       " 'EXFORGE',\n",
       " 'CEFACLOR',\n",
       " 'PANTALLAS',\n",
       " 'UNESIA',\n",
       " 'LIBERTRIM SII',\n",
       " 'LEVITRA',\n",
       " 'KETOCONAZOL SHAMPOO',\n",
       " 'PARACETAMOL IBUPROFENO',\n",
       " 'OXIMETAZOLINA',\n",
       " 'ACONDICIONADOR / ENJUAGUE',\n",
       " 'NUEZ',\n",
       " 'SERVILLETAS DE PAPEL BLANCO',\n",
       " 'PAPEL HIGIENICO',\n",
       " 'SEPTRIN F',\n",
       " 'JABON DE PASTA',\n",
       " 'COCTEL DE FRUTAS EN ALMIBAR',\n",
       " 'JARABE PARA PREPARAR BEBIDAS',\n",
       " 'PENTREXYL',\n",
       " 'JAIBON',\n",
       " 'JUEGO DE GEOMETRIA',\n",
       " 'ROMPOPE',\n",
       " 'AMLODIPINO',\n",
       " 'STADIUM',\n",
       " 'DEXTROMETORFANO GUAIFENESINA',\n",
       " 'TRIMETOPRIMA SULFAMETOXAZOL',\n",
       " 'COLORES DE MADERA',\n",
       " 'CALABAZA',\n",
       " 'PARMA. CAMPESTRE',\n",
       " 'CREMA',\n",
       " 'LENTEJA',\n",
       " 'CARNE CERDO',\n",
       " 'CARNE POLLO',\n",
       " 'SALSA MEXICANA',\n",
       " 'CARNE TERNERA',\n",
       " 'RABANO',\n",
       " 'TABCIN 500',\n",
       " 'NEUGERON MASTICABLE',\n",
       " 'QUESO SIERRA',\n",
       " 'CEPACOL MENTA',\n",
       " 'PROFENID 200',\n",
       " 'PARIET',\n",
       " 'ALCACHOFA',\n",
       " 'MANTARRAYA',\n",
       " 'BATA ESCUELA OFICIAL',\n",
       " 'LIBRO DE TEXTO DE HISTORIA',\n",
       " 'CALCORT',\n",
       " 'PANOTO-S',\n",
       " 'XATRAL-OD',\n",
       " 'MONTABLES',\n",
       " 'SALSA DE CHILE',\n",
       " 'VASCULFLOW',\n",
       " 'DILACORAN RETARD',\n",
       " 'DETERGENTE P/ROPA',\n",
       " 'TORTILLA DE HARINA DE TRIGO',\n",
       " 'CAPTOPRIL',\n",
       " 'CEREALES',\n",
       " 'SUIFLOX',\n",
       " 'OSSOPAN',\n",
       " 'ISORBID',\n",
       " 'SERVICEF',\n",
       " 'ZINNAT',\n",
       " 'CAMARON',\n",
       " 'PAPEL CHINA',\n",
       " 'PANTALON ESCUELA OFICIAL',\n",
       " 'CUADERNO FORMA ITALIANA ENGRAPADO',\n",
       " 'CO-DIOVAN',\n",
       " 'CIPRO XR',\n",
       " 'CEFUROXIMA',\n",
       " 'GENTAMICINA',\n",
       " 'LEVONORGESTREL',\n",
       " 'NIFEDIPINO',\n",
       " 'BISTEC DEL 7',\n",
       " 'TORTA IMPERIAL',\n",
       " 'PAPAS FRITAS',\n",
       " 'CERILLOS',\n",
       " 'ACICLOVIR',\n",
       " 'METFORMINA',\n",
       " 'PILAS ELECTRICAS',\n",
       " 'CAFE SOLUBLE',\n",
       " 'AGUA CON GAS',\n",
       " 'ACEITUNA',\n",
       " 'HIDROCILINA',\n",
       " 'TE',\n",
       " 'ROMERITOS',\n",
       " 'BUSCAPINA',\n",
       " 'PORTAMINAS',\n",
       " 'REGLAS',\n",
       " 'CHILES GUEROS CARRICILLOS',\n",
       " 'SABALO',\n",
       " 'AVAMYS 2A',\n",
       " 'NITROFURANTOINA',\n",
       " 'KETOROLACO TROMETAMINA',\n",
       " 'KEPPRA',\n",
       " 'ARMABLES',\n",
       " 'LECHE CONDENSADA',\n",
       " 'AJONJOLI',\n",
       " 'ZESTRIL',\n",
       " 'JAMON',\n",
       " 'CEREAL MIXTO',\n",
       " 'PAPA',\n",
       " 'ESPINACAS',\n",
       " 'DESENFRIOL-ITO',\n",
       " 'BACTRIM',\n",
       " 'LIPITOR',\n",
       " 'FEBRAX',\n",
       " 'JAIBA',\n",
       " 'PARGO',\n",
       " 'PAMPANO',\n",
       " 'LANGOSTA',\n",
       " 'LAPIZ',\n",
       " 'PLASTILINA',\n",
       " 'LAMPARA AHORRADORA',\n",
       " 'PRALINE',\n",
       " 'DISCO MAGNETICO',\n",
       " 'FOSAMAX',\n",
       " 'BIFONAZOL',\n",
       " 'VONTROL',\n",
       " 'PIRIFUR',\n",
       " 'SABRITONES',\n",
       " 'ACONDICIONADOR DE TELAS',\n",
       " 'CEFOTAXIMA',\n",
       " 'DEXIVANT',\n",
       " 'NOVOTIRAL',\n",
       " 'GOLD',\n",
       " 'ALCAPARRA',\n",
       " 'HARINA DE ARROZ',\n",
       " 'VINAGRE',\n",
       " 'KIWI',\n",
       " 'VILONA',\n",
       " 'QUESO MANCHEGO',\n",
       " 'CUADERNO FORMA FRANCESA ENGRAPADO',\n",
       " 'PAPEL LUSTRE',\n",
       " 'BLUSA ESCUELA OFICIAL',\n",
       " 'RETAZO DE PESCADO',\n",
       " 'HUMALOG MIX 25',\n",
       " 'ANTIFLU-DES. PEDIATRICO',\n",
       " 'CEFTRIAXONA',\n",
       " 'TABCIN ACTIVE',\n",
       " 'NESQUIK',\n",
       " 'MAYONESA',\n",
       " 'POLVO P/PREPARAR BEBIDAS',\n",
       " 'ACEITE',\n",
       " 'AMOXIBRON',\n",
       " 'ARTRENAC',\n",
       " 'ACEITUNA. MANZANILLA',\n",
       " 'TAMARINDO',\n",
       " 'MORTADELA',\n",
       " 'CUADERNO FORMA ITALIANA COSIDO',\n",
       " 'HOJAS DE PAPEL',\n",
       " 'PAVO',\n",
       " 'ACLIMAFEL',\n",
       " 'CLORAMFENI OFTENO',\n",
       " 'CETIRIZINA',\n",
       " 'CALTUSINE',\n",
       " 'ACIDO NALIDIXICO FENAZOPIRIDINA',\n",
       " 'SELOKEN ZOK',\n",
       " 'LEVOFLOXACINO',\n",
       " 'PALMITATO RETINOL ERGOCALCIFEROL',\n",
       " 'DIMOFLAX',\n",
       " 'FLUOXETINA',\n",
       " 'AMBROXOL SALBUTAMOL',\n",
       " 'PAXIL',\n",
       " 'TEGRETOL',\n",
       " 'LECHUGA',\n",
       " 'ADEL',\n",
       " 'NAPROXENO',\n",
       " 'DURAZNO',\n",
       " 'QUADRAX',\n",
       " 'THERAFLU EXTE',\n",
       " 'RANISEN',\n",
       " 'PACTENS',\n",
       " 'CUADERNO PROFESIONAL',\n",
       " 'CUADERNO PROFESIONAL COSIDO',\n",
       " 'BOQUERON',\n",
       " 'MUELA DE CANGREJO MORO',\n",
       " 'CEDAX',\n",
       " 'HELADO',\n",
       " 'ARAVA',\n",
       " 'CIPROFLOXACINO',\n",
       " 'UNIVAL',\n",
       " 'PREVEFEM COMPLEX',\n",
       " 'MARGARINA',\n",
       " 'APIO',\n",
       " 'TOMATE',\n",
       " 'LA VILLITA',\n",
       " 'ACLORAL',\n",
       " 'TORTILLA DE MAIZ',\n",
       " 'ESPASMO-CIBALGINA',\n",
       " 'AUGMENTIN',\n",
       " 'ENTEROGERMINA',\n",
       " 'CEFURACET',\n",
       " 'AUGMENTIN 12 H.',\n",
       " 'LORATADINA BETAMETASONA',\n",
       " 'LANTUS. INSULINA GLARGINA',\n",
       " 'RIOPAN',\n",
       " 'COMPETACT',\n",
       " 'SIMVASTATINA',\n",
       " 'NOOTROPIL',\n",
       " 'SAL MOLIDA DE MESA',\n",
       " 'COMPONENTES DE AUDIO',\n",
       " 'CHAYOTE',\n",
       " 'CAMARAS DIGITALES',\n",
       " 'ALPURA',\n",
       " 'ELECTRONICOS DE VIDEO',\n",
       " 'JUGUETES ARMABLES',\n",
       " 'AMPICILINA',\n",
       " 'SYNALAR SIMPLE',\n",
       " 'CURVINA',\n",
       " 'PAPEL BOND TAMANO CARTA',\n",
       " 'LIBRO DE TEXTO DE ESPAÑOL',\n",
       " 'CELESTAMINE-NS',\n",
       " 'DAFLOXEN F.',\n",
       " 'CIALIS',\n",
       " 'GENOPRAZOL',\n",
       " 'ISCOVER',\n",
       " 'GUAIFENESINA Y CITRATO OXOLAMINA',\n",
       " 'TIAMINAL B12',\n",
       " 'NAPROXENO SODICO, PARACETAMOL',\n",
       " 'METOPROLOL',\n",
       " 'GLIMEPIRIDA',\n",
       " 'CINTA ADHESIVA',\n",
       " 'DETERGENTE P/TRASTES',\n",
       " 'JITOMATE',\n",
       " 'FUD',\n",
       " 'MANZANA',\n",
       " 'OLLA DE PRESION EXPRESS',\n",
       " 'GUAYABA',\n",
       " 'PEDIALYTE',\n",
       " 'S/M',\n",
       " 'MARVELON',\n",
       " 'ALTRULINE',\n",
       " 'ROBALO',\n",
       " 'SIERRA',\n",
       " 'ALMEJA',\n",
       " 'TRUCHA',\n",
       " 'CUADERNO FORMA FRANCESA PASTA DURA',\n",
       " 'LIBRO DE TEXTO DE FISICA Y QUIMICA',\n",
       " 'JANUMET',\n",
       " 'BUTILHIOSCINA/ METAMIZOL SODICO',\n",
       " 'BETAMETASONA/ CLOTRIMAZOL/ GENTAMICINA',\n",
       " 'CLINDAMICINA',\n",
       " 'NITAZOXANIDA',\n",
       " 'DVD / BLU-RAY',\n",
       " 'DIFENIDOL',\n",
       " 'TRAYENTA',\n",
       " 'SINUBERASE',\n",
       " 'ALMENDRAS',\n",
       " 'CARNE MOLIDA DE CERDO',\n",
       " 'PANTALON CORTO SHORTS ESCUELA',\n",
       " 'CHAZARILLA ESCUELA OFICIAL',\n",
       " 'VINO DE MESA',\n",
       " 'EUTIROX 100',\n",
       " 'CLORFENAMINA/ FENILEFRINA/ PARACETAMOL',\n",
       " 'LAMICTAL. DISPERSABLE',\n",
       " 'SILKA MEDIC',\n",
       " 'PLANTAGO PSYLLIUM',\n",
       " 'FORMULA LACTEA',\n",
       " 'CEFALEXINA',\n",
       " 'CLEXANE',\n",
       " 'TEMPRA',\n",
       " 'MAMEY',\n",
       " 'DETERGENTE PARA ROPA Y TRASTES',\n",
       " 'ESKAPAR',\n",
       " 'ACTIFED',\n",
       " 'OSTION',\n",
       " 'CASTA RICA',\n",
       " 'FABROVEN',\n",
       " 'NEURALIN',\n",
       " 'HUMYLUB OFTENO',\n",
       " 'SIRDALUD',\n",
       " 'PAN BLANCO BOLILLO',\n",
       " 'MELON',\n",
       " 'SALSA CATSUP',\n",
       " 'SHAMPOO PARA BEBES / NINOS',\n",
       " 'SURGAM 300',\n",
       " 'SALSA DE SOYA',\n",
       " 'GALLETAS POPULARES',\n",
       " 'RIVOTRIL',\n",
       " 'ADEROGYL C',\n",
       " 'FACICAM',\n",
       " 'DIMETAPP (INFANTIL)',\n",
       " 'ZOVIRAX DISPERSABLE',\n",
       " 'GOMA BORRADOR',\n",
       " 'FALDA ESCUELA OFICIAL',\n",
       " 'D HECTOR',\n",
       " 'HALCION',\n",
       " 'CANESTEN V',\n",
       " 'ZYPREXA',\n",
       " 'TREXEN DUO',\n",
       " 'TREDA',\n",
       " 'SYSTANE',\n",
       " 'MUPIROCINA',\n",
       " 'ITRACONAZOL/ SECNIDAZOL',\n",
       " 'TOBRAMICINA DEXAMETASONA',\n",
       " 'PRODUCTO LACTEO',\n",
       " 'TEQUILA',\n",
       " 'TOSTADAS DE MAÍZ',\n",
       " 'CINARIZINA',\n",
       " 'REFRESH TEARS',\n",
       " 'LAGRICEL OFTENO',\n",
       " 'TAFIROL FLEX',\n",
       " 'COLOR LARGO',\n",
       " 'SHAMPOO',\n",
       " 'REFRIGERADORES',\n",
       " 'TOSTADORES DE PAN',\n",
       " 'MICROGYNON',\n",
       " 'VAINILLA',\n",
       " 'HARINA DE MAIZ',\n",
       " 'NARANJA',\n",
       " 'HIGADO DE RES',\n",
       " 'CEFTREX IM',\n",
       " 'DE DESTREZA',\n",
       " 'PENAMOX',\n",
       " 'ACULAREN',\n",
       " 'REDOXON',\n",
       " 'CONAZOL',\n",
       " 'BAGRE',\n",
       " 'BLANCO NILO',\n",
       " 'CUADERNO FORMA FRANCESA C/ESP.',\n",
       " 'SACAPUNTAS',\n",
       " 'LIBRO DE TEXTO DE MATEMATICAS',\n",
       " 'CABRILLA',\n",
       " 'DAXON',\n",
       " 'ESPAVEN PEDIATRICO',\n",
       " 'ALGESTONA ESTRADIOL',\n",
       " 'OFLOXACINO',\n",
       " 'IBUPROFENO',\n",
       " 'EVISTA',\n",
       " 'KRYTAN TEK OFTENO',\n",
       " 'FLANAX',\n",
       " 'DOLO-NEUROBION FORTE',\n",
       " 'PINA',\n",
       " 'PERA',\n",
       " 'PREDXAL',\n",
       " 'KEFLEX TABLETAS',\n",
       " 'VERMOX',\n",
       " 'GUANABANA',\n",
       " 'VENTOLIN',\n",
       " 'IMIGRAN',\n",
       " 'GRAPAS',\n",
       " 'CLENDIX',\n",
       " 'ADALAT OROS',\n",
       " 'ACIDO ALENDRONICO',\n",
       " 'PENPROCILINA',\n",
       " 'YASMIN 24/4',\n",
       " 'SILDENAFIL',\n",
       " 'SECOTEX',\n",
       " 'JERINGAS ESTERILES DE PLAST. P/INSULINA',\n",
       " 'NAPROXENO, CARISOPRODOL',\n",
       " 'CLOPIDOGREL',\n",
       " 'TOALLA FEMENINA',\n",
       " 'JARABE P/PREPARAR BEBIDAS',\n",
       " 'FRANJA',\n",
       " 'ATACAND',\n",
       " 'CECLOR',\n",
       " 'FLAGENASE 400',\n",
       " 'CARNE RES',\n",
       " 'AGUACATE',\n",
       " 'NEO MELUBRINA',\n",
       " 'CUADERNO FORMA ITALIANA PASTA DURA',\n",
       " 'LIBRO DE TEXTO DE BIOLOGIA',\n",
       " 'FOSFOCIL',\n",
       " 'VITACILINA',\n",
       " 'QUADRIDERM NF',\n",
       " 'SINERGIX',\n",
       " 'TAMSULOSINA',\n",
       " 'TOSTADAS DE MAIZ',\n",
       " 'AVODART',\n",
       " 'FUROSEMIDA',\n",
       " 'PLAQUENIL',\n",
       " 'REFRESCO',\n",
       " 'POLVO P/BEBIDAS SABOR CHOCOLATE',\n",
       " 'LAVADORAS',\n",
       " 'HUEVO',\n",
       " 'AMOXIL',\n",
       " 'PANZA DE RES',\n",
       " 'ICADEN V OVULO',\n",
       " 'MATERNA',\n",
       " 'CINTILLA',\n",
       " 'ROBALITO',\n",
       " 'ASPIRINA PROTECT',\n",
       " 'GLIMETAL',\n",
       " 'BONADOXINA',\n",
       " 'PLAVIX',\n",
       " 'YASMIN',\n",
       " 'LEVONORGESTREL / ETINILESTRADIOL',\n",
       " 'DORIXINA RELAX',\n",
       " 'MISOPROSTOL',\n",
       " 'ZUCARITAS',\n",
       " 'LINCOCIN',\n",
       " 'DUBY',\n",
       " 'METAMIZOL SODICO',\n",
       " 'FUD YORK',\n",
       " 'LIMA',\n",
       " 'KAOPECTATE',\n",
       " 'NEUROBION 10,000. HYPAK',\n",
       " 'DEXABION',\n",
       " 'ULSEN',\n",
       " 'CUADERNO FORMA COLLEGE. COSIDO',\n",
       " 'RIOJANO',\n",
       " 'EPAMIN',\n",
       " 'ALEVIAN DUO',\n",
       " 'CLORANFENICOL',\n",
       " 'LYRICA',\n",
       " 'SUFREXAL COMBI',\n",
       " 'KETOCONAZOL-CLINDAMICINA',\n",
       " 'HER-KLIN NF. SHAMPOO',\n",
       " 'NAXEN',\n",
       " 'AEROFLUX',\n",
       " 'CHILE FRESCO',\n",
       " 'PEPINO',\n",
       " 'JUGUETES EDUCATIVOS',\n",
       " 'JUGUETES MONTABLES ELECTRICOS',\n",
       " 'FRUTAS CUBIERTAS',\n",
       " 'OREJON',\n",
       " 'ALKA-SELTZER',\n",
       " 'COMPLEJO B/ DICLOFENACO',\n",
       " 'GLUCOSAMINA, CONDROITINA,',\n",
       " 'CHOLAL MODIFICADO',\n",
       " 'LORATADINA',\n",
       " 'CARTULINA',\n",
       " 'COL',\n",
       " 'AZUCAR',\n",
       " 'CORN FLAKES',\n",
       " 'SUAVIZANTE P/ROPA',\n",
       " 'LIMPIADOR LIQUIDO P/PISO',\n",
       " 'BATIDORAS',\n",
       " 'JUGUETES VARIOS',\n",
       " 'DESENGRAPADORA',\n",
       " 'DISCO COMPACTO',\n",
       " 'BACALAO',\n",
       " 'GALICIA',\n",
       " 'TIBURON',\n",
       " 'DENVAR',\n",
       " 'DOLO-NEUROBION',\n",
       " 'CYMBALTA',\n",
       " 'ANTIFLU-DES JR.',\n",
       " 'DESENFRIOL-D',\n",
       " 'HIDROXOCOBALAMINA TIAMINA PIRIDOXINA',\n",
       " 'KEFLEX PEDIÁTRICO',\n",
       " 'GLANIQUE',\n",
       " 'EXFORGE HCT',\n",
       " 'BENZONATATO',\n",
       " 'ESPIRONOLACTONA',\n",
       " 'ADIMOD',\n",
       " 'ITRACONAZOL',\n",
       " 'REDOXON. Forte',\n",
       " 'KIR',\n",
       " 'CAJETA',\n",
       " 'DICLOXACILINA',\n",
       " 'FRAXIPARINE',\n",
       " 'PILONCILLO',\n",
       " 'DAFLOXEN',\n",
       " 'TUNA',\n",
       " 'CO-TYLENOL',\n",
       " 'CLORFENAMINA COMPUESTA',\n",
       " 'PEDYALITE. SR-45. ELECTROLITOS ORALES',\n",
       " 'TOPIRAMATO',\n",
       " 'SERMION',\n",
       " 'HARINA HOT CAKES',\n",
       " 'HORNO DE MICROONDAS',\n",
       " 'CREMA LIQUIDA',\n",
       " 'BISOLVON ADULTO',\n",
       " 'PURE DE TOMATE',\n",
       " 'BLANQUEADOR',\n",
       " 'VIGAMOXI',\n",
       " 'FUMARATO FERROSO',\n",
       " 'MAPLUXIN',\n",
       " 'PIMIENTA',\n",
       " 'RELENZA',\n",
       " 'LIBRO DE TEXTO DE GEOGRAFIA',\n",
       " 'ZWAN PREMIUM',\n",
       " 'RAYA',\n",
       " 'FISOPRED',\n",
       " 'GYNOCLIN V',\n",
       " 'CEFADROXILO',\n",
       " 'MESULID',\n",
       " 'MEDICASP SHAMPOO',\n",
       " 'PAROXETINA',\n",
       " 'LIDOCAINA/HIDROCORTISONA/SUBACETATO DE',\n",
       " 'DESLORATADINA',\n",
       " 'BIOMICS',\n",
       " 'DICLOFENACO. VITAMINAS B1, B6 Y B13',\n",
       " 'PRISTIQ',\n",
       " 'CAMARON MOLIDO',\n",
       " 'ACELGA',\n",
       " 'ELOTE',\n",
       " 'DALACIN C',\n",
       " 'ZWAN. PREMIUM',\n",
       " 'SARIDON',\n",
       " 'LALA',\n",
       " 'HISTIACIL FLU',\n",
       " 'CATAPRESAN',\n",
       " 'VAGITROL -V',\n",
       " 'DIFLUCAN',\n",
       " 'CIRUELA',\n",
       " 'CHILES LARGOS O GUEROS CARRICILLOS',\n",
       " 'DOLOCAM-PLUS',\n",
       " 'COZAAR',\n",
       " 'GABAPENTINA',\n",
       " 'BROMURO DE PINAVERIO',\n",
       " 'MUCOFLUX',\n",
       " ...]"
      ]
     },
     "execution_count": 110,
     "metadata": {},
     "output_type": "execute_result"
    }
   ],
   "source": [
    "data.select('producto').distinct().rdd.map(lambda r: r[0]).collect()"
   ]
  },
  {
   "cell_type": "markdown",
   "id": "placed-seating",
   "metadata": {},
   "source": [
    "De la lista anterior tomamos como canasta básica los productos: FRIJOLES, HUEVO y ARROZ. Compararemos el precio promedio de estos productos por estado. "
   ]
  },
  {
   "cell_type": "code",
   "execution_count": 111,
   "id": "featured-removal",
   "metadata": {},
   "outputs": [],
   "source": [
    "canasta_basica = ['FRIJOLES', 'HUEVO', 'ARROZ']"
   ]
  },
  {
   "cell_type": "code",
   "execution_count": 121,
   "id": "bearing-basics",
   "metadata": {},
   "outputs": [
    {
     "name": "stderr",
     "output_type": "stream",
     "text": [
      "/home/meerkat/workspace/virtualenvs/datos_publicos/lib/python3.8/site-packages/pyspark/sql/pandas/conversion.py:87: UserWarning: toPandas attempted Arrow optimization because 'spark.sql.execution.arrow.pyspark.enabled' is set to true; however, failed by the reason below:\n",
      "  PyArrow >= 1.0.0 must be installed; however, it was not found.\n",
      "Attempting non-optimization as 'spark.sql.execution.arrow.pyspark.fallback.enabled' is set to true.\n",
      "  warnings.warn(msg)\n"
     ]
    }
   ],
   "source": [
    "pregunta_1 = (data.filter(data.producto.isin(canasta_basica)).groupby('producto', 'estado')\n",
    " .agg(F.avg('precio').alias('avg_precio')).toPandas())"
   ]
  },
  {
   "cell_type": "code",
   "execution_count": 137,
   "id": "timely-malawi",
   "metadata": {
    "scrolled": false
   },
   "outputs": [
    {
     "name": "stdout",
     "output_type": "stream",
     "text": [
      "Producto: HUEVO\n"
     ]
    },
    {
     "data": {
      "text/plain": [
       "<Figure size 864x576 with 0 Axes>"
      ]
     },
     "metadata": {},
     "output_type": "display_data"
    },
    {
     "data": {
      "image/png": "[encoded data removed]",
      "text/plain": [
       "<Figure size 432x288 with 1 Axes>"
      ]
     },
     "metadata": {
      "needs_background": "light"
     },
     "output_type": "display_data"
    },
    {
     "name": "stdout",
     "output_type": "stream",
     "text": [
      "Producto: ARROZ\n"
     ]
    },
    {
     "data": {
      "image/png": "[encoded data removed]",
      "text/plain": [
       "<Figure size 432x288 with 1 Axes>"
      ]
     },
     "metadata": {
      "needs_background": "light"
     },
     "output_type": "display_data"
    },
    {
     "name": "stdout",
     "output_type": "stream",
     "text": [
      "Producto: FRIJOLES\n"
     ]
    },
    {
     "data": {
      "image/png": "[encoded data removed]",
      "text/plain": [
       "<Figure size 432x288 with 1 Axes>"
      ]
     },
     "metadata": {
      "needs_background": "light"
     },
     "output_type": "display_data"
    }
   ],
   "source": [
    "plt.figure(figsize=(12,8))\n",
    "for producto in pregunta_2.producto.unique():\n",
    "    print(f'Producto: {producto}')    \n",
    "    pregunta_1[pregunta_1.producto==producto].plot(x='estado', y='avg_precio',kind='bar')    \n",
    "    plt.legend(bbox_to_anchor=(1, 1))    \n",
    "    plt.show()"
   ]
  },
  {
   "cell_type": "markdown",
   "id": "manufactured-medline",
   "metadata": {},
   "source": [
    "De esta misma canasta básica compararemos el precio promedio por año"
   ]
  },
  {
   "cell_type": "code",
   "execution_count": 139,
   "id": "indoor-webcam",
   "metadata": {},
   "outputs": [
    {
     "data": {
      "text/plain": [
       "Row(min(fechaRegistro)='2011-01-03 00:00:00.000')"
      ]
     },
     "execution_count": 139,
     "metadata": {},
     "output_type": "execute_result"
    }
   ],
   "source": [
    "data.agg({\"fechaRegistro\": \"min\"}).collect()[0]"
   ]
  },
  {
   "cell_type": "code",
   "execution_count": 140,
   "id": "thirty-haven",
   "metadata": {},
   "outputs": [
    {
     "data": {
      "text/plain": [
       "Row(max(fechaRegistro)='2014-12-26 00:00:00.000')"
      ]
     },
     "execution_count": 140,
     "metadata": {},
     "output_type": "execute_result"
    }
   ],
   "source": [
    "data.agg({\"fechaRegistro\": \"max\"}).collect()[0]"
   ]
  },
  {
   "cell_type": "code",
   "execution_count": 147,
   "id": "joint-cliff",
   "metadata": {},
   "outputs": [],
   "source": [
    "pregunta_1_2 = (data.filter(data.producto.isin(canasta_basica))\n",
    "                .select(F.year(\"fechaRegistro\").alias('anio_fecha_registro'), 'producto', 'precio')\n",
    "                .groupby('producto', 'anio_fecha_registro').agg(F.avg('precio').alias('avg_precio')).toPandas())"
   ]
  },
  {
   "cell_type": "code",
   "execution_count": 148,
   "id": "indian-belly",
   "metadata": {},
   "outputs": [
    {
     "name": "stdout",
     "output_type": "stream",
     "text": [
      "Producto: HUEVO\n"
     ]
    },
    {
     "data": {
      "text/plain": [
       "<Figure size 864x576 with 0 Axes>"
      ]
     },
     "metadata": {},
     "output_type": "display_data"
    },
    {
     "data": {
      "image/png": "[encoded data removed]",
      "text/plain": [
       "<Figure size 432x288 with 1 Axes>"
      ]
     },
     "metadata": {
      "needs_background": "light"
     },
     "output_type": "display_data"
    },
    {
     "name": "stdout",
     "output_type": "stream",
     "text": [
      "Producto: ARROZ\n"
     ]
    },
    {
     "data": {
      "image/png": "[encoded data removed]",
      "text/plain": [
       "<Figure size 432x288 with 1 Axes>"
      ]
     },
     "metadata": {
      "needs_background": "light"
     },
     "output_type": "display_data"
    },
    {
     "name": "stdout",
     "output_type": "stream",
     "text": [
      "Producto: FRIJOLES\n"
     ]
    },
    {
     "data": {
      "image/png": "[encoded data removed]",
      "text/plain": [
       "<Figure size 432x288 with 1 Axes>"
      ]
     },
     "metadata": {
      "needs_background": "light"
     },
     "output_type": "display_data"
    }
   ],
   "source": [
    "plt.figure(figsize=(12,8))\n",
    "for producto in pregunta_2_2.producto.unique():\n",
    "    print(f'Producto: {producto}')    \n",
    "    pregunta_1_2[pregunta_1_2.producto==producto].sort_values(by='anio_fecha_registro').plot(x='anio_fecha_registro', y='avg_precio',kind='bar')    \n",
    "    plt.legend(bbox_to_anchor=(1, 1))    \n",
    "    plt.show()"
   ]
  },
  {
   "cell_type": "markdown",
   "id": "chemical-hygiene",
   "metadata": {},
   "source": [
    "### ¿Cuál es la ciudad más cara del país? ¿Cuál es la más barata?"
   ]
  },
  {
   "cell_type": "markdown",
   "id": "alpha-castle",
   "metadata": {},
   "source": [
    "Para simplificar esta  respuesta, utilizaremos la misma canasde productos basicos creada en la pregunta anterior. La ciudad más cara del pais sera aquella en la cual la suma del precio promedio de estos 3 productos sea mayor."
   ]
  },
  {
   "cell_type": "markdown",
   "id": "contained-friendly",
   "metadata": {},
   "source": [
    "Nota: Entiendo que la pregunta dice ciudad, sin embargo ya no me dara tiempo de obtener la ciudad a partir de las coordenadas, por lo que usaré el municipio"
   ]
  },
  {
   "cell_type": "code",
   "execution_count": 149,
   "id": "limited-scenario",
   "metadata": {},
   "outputs": [],
   "source": [
    "pregunta_2 = (data.filter(data.producto.isin(canasta_basica)).groupby('producto', 'municipio')\n",
    "              .agg(F.avg('precio').alias('avg_precio'))\n",
    "              .groupby('municipio').agg(F.sum('avg_precio').alias('precio_prom_canasta_basica')).toPandas())"
   ]
  },
  {
   "cell_type": "markdown",
   "id": "wireless-quest",
   "metadata": {},
   "source": [
    "De acuerdo a este análisis el municipio en el que la canasta básica es en promedio más cara es Colima "
   ]
  },
  {
   "cell_type": "code",
   "execution_count": 151,
   "id": "fossil-request",
   "metadata": {},
   "outputs": [
    {
     "data": {
      "text/html": [
       "<div>\n",
       "<style scoped>\n",
       "    .dataframe tbody tr th:only-of-type {\n",
       "        vertical-align: middle;\n",
       "    }\n",
       "\n",
       "    .dataframe tbody tr th {\n",
       "        vertical-align: top;\n",
       "    }\n",
       "\n",
       "    .dataframe thead th {\n",
       "        text-align: right;\n",
       "    }\n",
       "</style>\n",
       "<table border=\"1\" class=\"dataframe\">\n",
       "  <thead>\n",
       "    <tr style=\"text-align: right;\">\n",
       "      <th></th>\n",
       "      <th>municipio</th>\n",
       "      <th>precio_prom_canasta_basica</th>\n",
       "    </tr>\n",
       "  </thead>\n",
       "  <tbody>\n",
       "    <tr>\n",
       "      <th>79</th>\n",
       "      <td>COLIMA</td>\n",
       "      <td>70.398684</td>\n",
       "    </tr>\n",
       "  </tbody>\n",
       "</table>\n",
       "</div>"
      ],
      "text/plain": [
       "                                   municipio  precio_prom_canasta_basica\n",
       "79  COLIMA                                                     70.398684"
      ]
     },
     "execution_count": 151,
     "metadata": {},
     "output_type": "execute_result"
    }
   ],
   "source": [
    "pregunta_2[pregunta_2.precio_prom_canasta_basica==pregunta_2.precio_prom_canasta_basica.max()]"
   ]
  },
  {
   "cell_type": "markdown",
   "id": "deadly-response",
   "metadata": {},
   "source": [
    "### ¿Hay algún patrón estacional entre años?"
   ]
  },
  {
   "cell_type": "code",
   "execution_count": 164,
   "id": "accepting-ordinary",
   "metadata": {},
   "outputs": [
    {
     "name": "stderr",
     "output_type": "stream",
     "text": [
      "/home/meerkat/workspace/virtualenvs/datos_publicos/lib/python3.8/site-packages/pyspark/sql/pandas/conversion.py:87: UserWarning: toPandas attempted Arrow optimization because 'spark.sql.execution.arrow.pyspark.enabled' is set to true; however, failed by the reason below:\n",
      "  PyArrow >= 1.0.0 must be installed; however, it was not found.\n",
      "Attempting non-optimization as 'spark.sql.execution.arrow.pyspark.fallback.enabled' is set to true.\n",
      "  warnings.warn(msg)\n"
     ]
    }
   ],
   "source": [
    "pregunta_3 = (data.filter(data.producto.isin(canasta_basica))\n",
    "                .select(F.month(\"fechaRegistro\").alias('mes_fecha_registro'),\n",
    "                        F.year(\"fechaRegistro\").alias('anio_fecha_registro'),'producto', 'precio')\n",
    "                .groupby('producto', 'anio_fecha_registro', 'mes_fecha_registro')\n",
    "              .agg(F.avg('precio').alias('avg_precio'))\n",
    "              .groupby('anio_fecha_registro', 'mes_fecha_registro')\n",
    "              .agg(F.sum('avg_precio').alias('precio_prom_canasta_basica'))\n",
    "              .toPandas()\n",
    "             )"
   ]
  },
  {
   "cell_type": "code",
   "execution_count": 231,
   "id": "artistic-display",
   "metadata": {},
   "outputs": [],
   "source": [
    "pregunta_3['anio_mes'] = pregunta_3.apply(lambda x: datetime(x['anio_fecha_registro'], x['mes_fecha_registro'], 1),axis=1)"
   ]
  },
  {
   "cell_type": "code",
   "execution_count": 233,
   "id": "completed-assets",
   "metadata": {
    "scrolled": true
   },
   "outputs": [
    {
     "data": {
      "image/png": "[encoded data removed]",
      "text/plain": [
       "<Figure size 576x360 with 1 Axes>"
      ]
     },
     "metadata": {
      "needs_background": "light"
     },
     "output_type": "display_data"
    }
   ],
   "source": [
    "ax = pregunta_3.sort_values('anio_mes').plot(x='anio_mes', y ='precio_prom_canasta_basica',figsize=(8,5))\n",
    "plt.show()"
   ]
  },
  {
   "cell_type": "markdown",
   "id": "atlantic-setting",
   "metadata": {},
   "source": [
    "Para el precio promedio de la canasta básica se observa que de 2011 a 2013 los precios suben entre Julio y Enero y luego de Enero a Julio los precios bajan. Posterior a 2013 no se observa un patrón claro"
   ]
  },
  {
   "cell_type": "markdown",
   "id": "macro-attention",
   "metadata": {},
   "source": [
    "### ¿Cuál es el estado más caro y en qué mes?"
   ]
  },
  {
   "cell_type": "markdown",
   "id": "pediatric-bahamas",
   "metadata": {},
   "source": [
    "Siguiendo la línea de la canasta básica (:( porque no me dio tiempo de más) anterior determinaremos el estado más caro de acuerdo a los precios de la canasta básica. Primero determinaremos el estado más caro y después analizaremos para que mes es más caro"
   ]
  },
  {
   "cell_type": "code",
   "execution_count": 156,
   "id": "adequate-style",
   "metadata": {},
   "outputs": [
    {
     "name": "stderr",
     "output_type": "stream",
     "text": [
      "/home/meerkat/workspace/virtualenvs/datos_publicos/lib/python3.8/site-packages/pyspark/sql/pandas/conversion.py:87: UserWarning: toPandas attempted Arrow optimization because 'spark.sql.execution.arrow.pyspark.enabled' is set to true; however, failed by the reason below:\n",
      "  PyArrow >= 1.0.0 must be installed; however, it was not found.\n",
      "Attempting non-optimization as 'spark.sql.execution.arrow.pyspark.fallback.enabled' is set to true.\n",
      "  warnings.warn(msg)\n"
     ]
    }
   ],
   "source": [
    "pregunta_4 = (data.filter(data.producto.isin(canasta_basica)).groupby('producto', 'estado')\n",
    "              .agg(F.avg('precio').alias('avg_precio'))\n",
    "              .groupby('estado').agg(F.sum('avg_precio').alias('precio_prom_canasta_basica')).toPandas())"
   ]
  },
  {
   "cell_type": "code",
   "execution_count": 157,
   "id": "coral-destruction",
   "metadata": {},
   "outputs": [
    {
     "data": {
      "text/html": [
       "<div>\n",
       "<style scoped>\n",
       "    .dataframe tbody tr th:only-of-type {\n",
       "        vertical-align: middle;\n",
       "    }\n",
       "\n",
       "    .dataframe tbody tr th {\n",
       "        vertical-align: top;\n",
       "    }\n",
       "\n",
       "    .dataframe thead th {\n",
       "        text-align: right;\n",
       "    }\n",
       "</style>\n",
       "<table border=\"1\" class=\"dataframe\">\n",
       "  <thead>\n",
       "    <tr style=\"text-align: right;\">\n",
       "      <th></th>\n",
       "      <th>estado</th>\n",
       "      <th>precio_prom_canasta_basica</th>\n",
       "    </tr>\n",
       "  </thead>\n",
       "  <tbody>\n",
       "    <tr>\n",
       "      <th>30</th>\n",
       "      <td>COLIMA</td>\n",
       "      <td>70.355355</td>\n",
       "    </tr>\n",
       "  </tbody>\n",
       "</table>\n",
       "</div>"
      ],
      "text/plain": [
       "    estado  precio_prom_canasta_basica\n",
       "30  COLIMA                   70.355355"
      ]
     },
     "execution_count": 157,
     "metadata": {},
     "output_type": "execute_result"
    }
   ],
   "source": [
    "pregunta_4[pregunta_4.precio_prom_canasta_basica==pregunta_3.precio_prom_canasta_basica.max()]"
   ]
  },
  {
   "cell_type": "code",
   "execution_count": 158,
   "id": "naked-mouth",
   "metadata": {},
   "outputs": [
    {
     "name": "stderr",
     "output_type": "stream",
     "text": [
      "/home/meerkat/workspace/virtualenvs/datos_publicos/lib/python3.8/site-packages/pyspark/sql/pandas/conversion.py:87: UserWarning: toPandas attempted Arrow optimization because 'spark.sql.execution.arrow.pyspark.enabled' is set to true; however, failed by the reason below:\n",
      "  PyArrow >= 1.0.0 must be installed; however, it was not found.\n",
      "Attempting non-optimization as 'spark.sql.execution.arrow.pyspark.fallback.enabled' is set to true.\n",
      "  warnings.warn(msg)\n"
     ]
    }
   ],
   "source": [
    "pregunta_4_2 = (data.filter((data.producto.isin(canasta_basica)) & (data.estado=='COLIMA'))\n",
    " .select(F.month(\"fechaRegistro\").alias('mes_fecha_registro'), 'producto', 'precio')\n",
    " .groupby('producto', 'mes_fecha_registro')\n",
    " .agg(F.avg('precio').alias('avg_precio'))\n",
    " .groupby('mes_fecha_registro')\n",
    " .agg(F.sum('avg_precio').alias('precio_prom_canasta_basica'))\n",
    " .toPandas())"
   ]
  },
  {
   "cell_type": "markdown",
   "id": "major-identifier",
   "metadata": {},
   "source": [
    "El estado más caro es Colima en el mes de Mayo"
   ]
  },
  {
   "cell_type": "code",
   "execution_count": 163,
   "id": "conservative-interest",
   "metadata": {},
   "outputs": [
    {
     "data": {
      "text/plain": [
       "<matplotlib.legend.Legend at 0x7f94d40d7af0>"
      ]
     },
     "execution_count": 163,
     "metadata": {},
     "output_type": "execute_result"
    },
    {
     "data": {
      "image/png": "[encoded data removed]",
      "text/plain": [
       "<Figure size 432x288 with 1 Axes>"
      ]
     },
     "metadata": {
      "needs_background": "light"
     },
     "output_type": "display_data"
    }
   ],
   "source": [
    "pregunta_4_2.sort_values('mes_fecha_registro').plot(x='mes_fecha_registro', y='precio_prom_canasta_basica', kind='bar')\n",
    "plt.legend(bbox_to_anchor=(1, 1))"
   ]
  },
  {
   "cell_type": "markdown",
   "id": "wicked-savannah",
   "metadata": {},
   "source": [
    "### ¿Cuáles son los principales riesgos de hacer análisis de series de tiempo con estos datos?"
   ]
  },
  {
   "cell_type": "markdown",
   "id": "proved-hopkins",
   "metadata": {},
   "source": [
    "De acuerdo a los resultados de la pregunta 2.3 la serie no es homoscedástica y además tiene tendencia creciente pero no es monotona; se ven caídas bastante fuertes. Este tipo de problemas se pueden corregir con técnicas utilizadas para modelar series de tiempo, sin embargo no aseguraría con la información que tengo hasta el momento que esto sería  la mejor opción."
   ]
  }
 ],
 "metadata": {
  "kernelspec": {
   "display_name": "datos_publicos",
   "language": "python",
   "name": "datos_publicos"
  },
  "language_info": {
   "codemirror_mode": {
    "name": "ipython",
    "version": 3
   },
   "file_extension": ".py",
   "mimetype": "text/x-python",
   "name": "python",
   "nbconvert_exporter": "python",
   "pygments_lexer": "ipython3",
   "version": "3.8.5"
  },
  "toc": {
   "base_numbering": 1,
   "nav_menu": {},
   "number_sections": true,
   "sideBar": true,
   "skip_h1_title": false,
   "title_cell": "Table of Contents",
   "title_sidebar": "Contents",
   "toc_cell": false,
   "toc_position": {},
   "toc_section_display": true,
   "toc_window_display": false
  }
 },
 "nbformat": 4,
 "nbformat_minor": 5
}
