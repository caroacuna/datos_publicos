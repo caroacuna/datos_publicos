{
 "cells": [
  {
   "cell_type": "markdown",
   "id": "automated-default",
   "metadata": {},
   "source": [
    "Objetivo: Utilizar la base de datos histórica de Quién es Quién en los Precios de Profeco y resolver una serie de preguntas"
   ]
  },
  {
   "cell_type": "code",
   "execution_count": 1,
   "id": "graphic-singles",
   "metadata": {},
   "outputs": [],
   "source": [
    "import pandas as pd\n",
    "import numpy as np\n",
    "from datetime import datetime\n",
    "import matplotlib.pyplot as plt\n",
    "from pyspark.sql import SparkSession\n",
    "from pyspark.context import SparkContext\n",
    "from pyspark.sql import functions as F"
   ]
  },
  {
   "cell_type": "markdown",
   "id": "illegal-andrew",
   "metadata": {},
   "source": [
    "Primero se inicializa la SparkSession\n",
    "\n",
    "Nota: Primero probare sin modificar la configuración inicial y ya si es necesario lo revisare en este link\n",
    "https://spark.apache.org/docs/latest/configuration.html\n"
   ]
  },
  {
   "cell_type": "code",
   "execution_count": 2,
   "id": "cleared-flesh",
   "metadata": {},
   "outputs": [],
   "source": [
    "ss = (SparkSession.builder.appName(\"ejercicio_pyspark\").getOrCreate())"
   ]
  },
  {
   "cell_type": "code",
   "execution_count": 3,
   "id": "opening-neighbor",
   "metadata": {},
   "outputs": [],
   "source": [
    "data = ss.read.csv('profeco/all_data.csv', header='true') ## 11.6GB de información"
   ]
  },
  {
   "cell_type": "markdown",
   "id": "everyday-fifth",
   "metadata": {},
   "source": [
    "## Procesamiento de los datos"
   ]
  },
  {
   "cell_type": "markdown",
   "id": "israeli-hamburg",
   "metadata": {},
   "source": [
    "### ¿Cuántos registros hay?"
   ]
  },
  {
   "cell_type": "code",
   "execution_count": 6,
   "id": "skilled-slide",
   "metadata": {},
   "outputs": [
    {
     "name": "stdout",
     "output_type": "stream",
     "text": [
      "Se tienen 35275384 registros\n"
     ]
    }
   ],
   "source": [
    "print(f\"Se tienen {data.count()} registros\")"
   ]
  },
  {
   "cell_type": "code",
   "execution_count": 8,
   "id": "permanent-riding",
   "metadata": {},
   "outputs": [
    {
     "data": {
      "text/plain": [
       "['producto',\n",
       " 'presentacion',\n",
       " 'marca',\n",
       " 'categoria',\n",
       " 'catalogo',\n",
       " 'precio',\n",
       " 'fechaRegistro',\n",
       " 'cadenaComercial',\n",
       " 'giro',\n",
       " 'nombreComercial',\n",
       " 'direccion',\n",
       " 'estado',\n",
       " 'municipio',\n",
       " 'latitud',\n",
       " 'longitud']"
      ]
     },
     "execution_count": 8,
     "metadata": {},
     "output_type": "execute_result"
    }
   ],
   "source": [
    "data.columns"
   ]
  },
  {
   "cell_type": "markdown",
   "id": "secure-induction",
   "metadata": {},
   "source": [
    "### ¿Cuántas categorías?"
   ]
  },
  {
   "cell_type": "markdown",
   "id": "veterinary-aquarium",
   "metadata": {},
   "source": [
    "Se tienen 40 categorías distintas"
   ]
  },
  {
   "cell_type": "code",
   "execution_count": 7,
   "id": "foreign-inflation",
   "metadata": {},
   "outputs": [
    {
     "name": "stdout",
     "output_type": "stream",
     "text": [
      "+-------------------------+\n",
      "|count(DISTINCT categoria)|\n",
      "+-------------------------+\n",
      "|                       40|\n",
      "+-------------------------+\n",
      "\n"
     ]
    }
   ],
   "source": [
    "data.select(F.countDistinct(\"categoria\")).show()"
   ]
  },
  {
   "cell_type": "markdown",
   "id": "physical-detective",
   "metadata": {},
   "source": [
    "### ¿Cuántas cadenas comerciales están siendo monitoreadas?"
   ]
  },
  {
   "cell_type": "markdown",
   "id": "composite-scotland",
   "metadata": {},
   "source": [
    "Se asume que al aparecer en la base es porque las cadenas estan siendo monitoreadas. En total hay 606 cadenas comerciales distintas"
   ]
  },
  {
   "cell_type": "code",
   "execution_count": 9,
   "id": "behavioral-degree",
   "metadata": {},
   "outputs": [
    {
     "name": "stdout",
     "output_type": "stream",
     "text": [
      "+-------------------------------+\n",
      "|count(DISTINCT cadenaComercial)|\n",
      "+-------------------------------+\n",
      "|                            606|\n",
      "+-------------------------------+\n",
      "\n"
     ]
    }
   ],
   "source": [
    "data.select(F.countDistinct(\"cadenaComercial\")).show()"
   ]
  },
  {
   "cell_type": "markdown",
   "id": "tropical-european",
   "metadata": {},
   "source": [
    "### ¿Cómo podrías determinar la calidad de los datos? ¿Detectaste algún tipo de inconsistencia o error en la fuente?"
   ]
  },
  {
   "cell_type": "markdown",
   "id": "lesser-speaking",
   "metadata": {},
   "source": [
    "Pues sería útil que en la fuente indicaran el número de datos que debería haber en la base de datos, las columnas con su tipo de dato y descripción. \n",
    "Sobre incosistencia se me  hizo raro que cuando extraje el archivo zip solo se descargaron 11.6 GB sin embargo cuando te metes al archivo zip dice la tabla pesa 20.7 GB. No se que ocurrió"
   ]
  },
  {
   "cell_type": "markdown",
   "id": "straight-movement",
   "metadata": {},
   "source": [
    "### Cuáles son los productos más monitoreados en cada entidad?"
   ]
  },
  {
   "cell_type": "markdown",
   "id": "alive-effect",
   "metadata": {},
   "source": [
    "Al igual que en la pregunta anterior se asume que \"ser monitoreado\" es equivalente a aparecer en los datos por lo que se contaran el numero de registros por entidad y producto y se elegiran los productos con más observaciones para cada entidad"
   ]
  },
  {
   "cell_type": "code",
   "execution_count": 10,
   "id": "union-kinase",
   "metadata": {},
   "outputs": [],
   "source": [
    "conteo_estado_prod = data.groupBy(['estado', 'producto']).count()"
   ]
  },
  {
   "cell_type": "code",
   "execution_count": 11,
   "id": "sound-macintosh",
   "metadata": {},
   "outputs": [],
   "source": [
    "conteo_max = conteo_estado_prod.groupBy('estado').agg(F.max(conteo_estado_prod['count']).alias('max_count')).withColumnRenamed('estado', 'estado_')"
   ]
  },
  {
   "cell_type": "code",
   "execution_count": 12,
   "id": "clear-notification",
   "metadata": {},
   "outputs": [],
   "source": [
    "prod_top_entidad = (conteo_estado_prod.join(conteo_max,(F.col('estado') == F.col('estado_')) & (F.col('count') == F.col('max_count')))\n",
    "                    .drop('estado_').drop('max_count'))  "
   ]
  },
  {
   "cell_type": "code",
   "execution_count": 13,
   "id": "final-baptist",
   "metadata": {},
   "outputs": [
    {
     "name": "stdout",
     "output_type": "stream",
     "text": [
      "+--------------------+--------------------+------+\n",
      "|              estado|            producto| count|\n",
      "+--------------------+--------------------+------+\n",
      "|             SINALOA|   DETERGENTE P/ROPA| 19312|\n",
      "|      AGUASCALIENTES|   DETERGENTE P/ROPA|  4074|\n",
      "|             TABASCO|   DETERGENTE P/ROPA| 17385|\n",
      "|     SAN LUIS POTOSÍ|                 FUD|  1574|\n",
      "|             HIDALGO|   DETERGENTE P/ROPA| 11620|\n",
      "|     BAJA CALIFORNIA|            REFRESCO|  6101|\n",
      "|    DISTRITO FEDERAL|            REFRESCO|165872|\n",
      "|           ZACATECAS|   DETERGENTE P/ROPA| 14643|\n",
      "|             MORELOS|            REFRESCO|  1594|\n",
      "|COAHUILA DE ZARAGOZA|   DETERGENTE P/ROPA|  8272|\n",
      "|              PUEBLA|            REFRESCO| 19151|\n",
      "|            TLAXCALA|   DETERGENTE P/ROPA| 33021|\n",
      "|             JALISCO|   DETERGENTE P/ROPA| 59273|\n",
      "|             YUCATÁN|LECHE ULTRAPASTEU...| 23998|\n",
      "|              COLIMA|   DETERGENTE P/ROPA| 11557|\n",
      "|           QUERÉTARO|LECHE ULTRAPASTEU...| 19705|\n",
      "|          TAMAULIPAS|   DETERGENTE P/ROPA|  3141|\n",
      "| BAJA CALIFORNIA SUR|            REFRESCO|  3582|\n",
      "|          GUANAJUATO|            REFRESCO| 29664|\n",
      "|              SONORA|   DETERGENTE P/ROPA| 15988|\n",
      "+--------------------+--------------------+------+\n",
      "only showing top 20 rows\n",
      "\n"
     ]
    }
   ],
   "source": [
    "prod_top_entidad.show()"
   ]
  },
  {
   "cell_type": "markdown",
   "id": "advisory-generation",
   "metadata": {},
   "source": [
    "### ¿Cuál es la cadena comercial con mayor variedad de productos monitoreados?"
   ]
  },
  {
   "cell_type": "markdown",
   "id": "neither-muscle",
   "metadata": {},
   "source": [
    "La cadena comercial con mayor variedad de productos de acuedo a los datos es Soriana"
   ]
  },
  {
   "cell_type": "code",
   "execution_count": 14,
   "id": "beautiful-navigator",
   "metadata": {},
   "outputs": [
    {
     "data": {
      "text/plain": [
       "[Row(cadenaComercial='SORIANA', productos_distintos=1037)]"
      ]
     },
     "execution_count": 14,
     "metadata": {},
     "output_type": "execute_result"
    }
   ],
   "source": [
    "(data.groupby('cadenaComercial').agg(F.countDistinct('producto').alias('productos_distintos'))\n",
    " .sort(F.col(\"productos_distintos\").desc()).head(1))"
   ]
  },
  {
   "cell_type": "markdown",
   "id": "minute-barbados",
   "metadata": {},
   "source": [
    "## Análisis exploratorio"
   ]
  },
  {
   "cell_type": "markdown",
   "id": "standing-caribbean",
   "metadata": {},
   "source": [
    "### Genera una canasta de productos básicos que te permita comparar los precios geográfica y temporalmente"
   ]
  },
  {
   "cell_type": "markdown",
   "id": "private-potato",
   "metadata": {},
   "source": [
    "Primero revise que productos había  disponibles para crear la canasta básica"
   ]
  },
  {
   "cell_type": "code",
   "execution_count": 47,
   "id": "celtic-myrtle",
   "metadata": {},
   "outputs": [],
   "source": [
    "#data.select('producto').distinct().rdd.map(lambda r: r[0]).collect()"
   ]
  },
  {
   "cell_type": "markdown",
   "id": "placed-seating",
   "metadata": {},
   "source": [
    "De la lista anterior tomamos como canasta básica los productos: FRIJOLES, HUEVO y ARROZ"
   ]
  },
  {
   "cell_type": "code",
   "execution_count": 16,
   "id": "featured-removal",
   "metadata": {},
   "outputs": [],
   "source": [
    "canasta_basica = ['FRIJOLES', 'HUEVO', 'ARROZ']"
   ]
  },
  {
   "cell_type": "markdown",
   "id": "entitled-recorder",
   "metadata": {},
   "source": [
    "#### Precio promedio de canasta básica por estado"
   ]
  },
  {
   "cell_type": "code",
   "execution_count": 19,
   "id": "driving-pressing",
   "metadata": {},
   "outputs": [
    {
     "name": "stdout",
     "output_type": "stream",
     "text": [
      "+----------------+--------+-----+\n",
      "|          estado|producto|count|\n",
      "+----------------+--------+-----+\n",
      "|         JALISCO|   ARROZ| 8814|\n",
      "|            null|FRIJOLES|   16|\n",
      "|DISTRITO FEDERAL|   HUEVO|67909|\n",
      "|         SINALOA|   HUEVO| 4102|\n",
      "|          SONORA|   HUEVO| 2777|\n",
      "|         CHIAPAS|   HUEVO|  353|\n",
      "|  AGUASCALIENTES|   HUEVO| 1505|\n",
      "|         NAYARIT|   ARROZ|  201|\n",
      "|          COLIMA|   HUEVO| 1983|\n",
      "|       CHIHUAHUA|FRIJOLES|  318|\n",
      "|  AGUASCALIENTES|FRIJOLES|  534|\n",
      "|         CHIAPAS|   ARROZ|  514|\n",
      "| SAN LUIS POTOSÍ|   ARROZ|  299|\n",
      "|         TABASCO|FRIJOLES| 2325|\n",
      "|        GUERRERO|FRIJOLES|  109|\n",
      "|         SINALOA|FRIJOLES| 1562|\n",
      "|         JALISCO|FRIJOLES| 5677|\n",
      "| SAN LUIS POTOSÍ|FRIJOLES|  159|\n",
      "|          OAXACA|   ARROZ| 1341|\n",
      "|         HIDALGO|   HUEVO| 4220|\n",
      "+----------------+--------+-----+\n",
      "only showing top 20 rows\n",
      "\n"
     ]
    }
   ],
   "source": [
    "data.filter(data.producto.isin(canasta_basica)).groupby('estado', 'producto').count().show()"
   ]
  },
  {
   "cell_type": "markdown",
   "id": "headed-richards",
   "metadata": {},
   "source": [
    "De las siguientes gráficas solo me salta que el huevo este mucho más caro en Colima, pero bueno yo no se mucho de Colima y pues bastantes registros respaldan ese dato"
   ]
  },
  {
   "cell_type": "code",
   "execution_count": 20,
   "id": "bearing-basics",
   "metadata": {},
   "outputs": [],
   "source": [
    "pregunta_1 = (data.filter(data.producto.isin(canasta_basica)).groupby('producto', 'estado')\n",
    " .agg(F.avg('precio').alias('avg_precio')).toPandas())"
   ]
  },
  {
   "cell_type": "code",
   "execution_count": 22,
   "id": "timely-malawi",
   "metadata": {
    "scrolled": false
   },
   "outputs": [
    {
     "name": "stdout",
     "output_type": "stream",
     "text": [
      "Producto: HUEVO\n"
     ]
    },
    {
     "data": {
      "text/plain": [
       "<Figure size 864x576 with 0 Axes>"
      ]
     },
     "metadata": {},
     "output_type": "display_data"
    },
    {
     "data": {
      "image/png": "[encoded data removed]",
      "text/plain": [
       "<Figure size 432x288 with 1 Axes>"
      ]
     },
     "metadata": {
      "needs_background": "light"
     },
     "output_type": "display_data"
    },
    {
     "name": "stdout",
     "output_type": "stream",
     "text": [
      "Producto: FRIJOLES\n"
     ]
    },
    {
     "data": {
      "image/png": "[encoded data removed]",
      "text/plain": [
       "<Figure size 432x288 with 1 Axes>"
      ]
     },
     "metadata": {
      "needs_background": "light"
     },
     "output_type": "display_data"
    },
    {
     "name": "stdout",
     "output_type": "stream",
     "text": [
      "Producto: ARROZ\n"
     ]
    },
    {
     "data": {
      "image/png": "[encoded data removed]",
      "text/plain": [
       "<Figure size 432x288 with 1 Axes>"
      ]
     },
     "metadata": {
      "needs_background": "light"
     },
     "output_type": "display_data"
    }
   ],
   "source": [
    "plt.figure(figsize=(12,8))\n",
    "for producto in pregunta_1.producto.unique():\n",
    "    print(f'Producto: {producto}')    \n",
    "    pregunta_1[pregunta_1.producto==producto].plot(x='estado', y='avg_precio',kind='bar')    \n",
    "    plt.legend(bbox_to_anchor=(1, 1))    \n",
    "    plt.show()"
   ]
  },
  {
   "cell_type": "markdown",
   "id": "varied-reform",
   "metadata": {},
   "source": [
    "Solo por curiosidad vi el describe de los precios del huevo en Colima y no es por atípicos que el promedio haya salido caro, en efecto el huevo esta caro en Colima"
   ]
  },
  {
   "cell_type": "code",
   "execution_count": 27,
   "id": "annual-lebanon",
   "metadata": {},
   "outputs": [
    {
     "name": "stdout",
     "output_type": "stream",
     "text": [
      "+-------+-----------------+\n",
      "|summary|           precio|\n",
      "+-------+-----------------+\n",
      "|  count|             1983|\n",
      "|   mean|43.31081190115985|\n",
      "| stddev|16.43547140728973|\n",
      "|    min|            16.65|\n",
      "|    25%|             27.4|\n",
      "|    50%|             39.5|\n",
      "|    75%|             60.5|\n",
      "|    max|             83.5|\n",
      "+-------+-----------------+\n",
      "\n"
     ]
    }
   ],
   "source": [
    "data.filter((data.producto=='HUEVO') & (data.estado=='COLIMA')).select(F.col('precio')).summary().show()"
   ]
  },
  {
   "cell_type": "markdown",
   "id": "manufactured-medline",
   "metadata": {},
   "source": [
    "#### Precio promedio de canasta básica por año"
   ]
  },
  {
   "cell_type": "code",
   "execution_count": 28,
   "id": "indoor-webcam",
   "metadata": {},
   "outputs": [
    {
     "data": {
      "text/plain": [
       "Row(min(fechaRegistro)='2011-01-03 00:00:00.000')"
      ]
     },
     "execution_count": 28,
     "metadata": {},
     "output_type": "execute_result"
    }
   ],
   "source": [
    "data.agg({\"fechaRegistro\": \"min\"}).collect()[0]"
   ]
  },
  {
   "cell_type": "code",
   "execution_count": 29,
   "id": "thirty-haven",
   "metadata": {},
   "outputs": [
    {
     "data": {
      "text/plain": [
       "Row(max(fechaRegistro)='2014-12-26 00:00:00.000')"
      ]
     },
     "execution_count": 29,
     "metadata": {},
     "output_type": "execute_result"
    }
   ],
   "source": [
    "data.agg({\"fechaRegistro\": \"max\"}).collect()[0]"
   ]
  },
  {
   "cell_type": "code",
   "execution_count": 30,
   "id": "joint-cliff",
   "metadata": {},
   "outputs": [],
   "source": [
    "pregunta_1_2 = (data.filter(data.producto.isin(canasta_basica))\n",
    "                .select(F.year(\"fechaRegistro\").alias('anio_fecha_registro'), 'producto', 'precio')\n",
    "                .groupby('producto', 'anio_fecha_registro').agg(F.avg('precio').alias('avg_precio')).toPandas())"
   ]
  },
  {
   "cell_type": "code",
   "execution_count": 32,
   "id": "indian-belly",
   "metadata": {},
   "outputs": [
    {
     "name": "stdout",
     "output_type": "stream",
     "text": [
      "Producto: ARROZ\n"
     ]
    },
    {
     "data": {
      "text/plain": [
       "<Figure size 864x576 with 0 Axes>"
      ]
     },
     "metadata": {},
     "output_type": "display_data"
    },
    {
     "data": {
      "image/png": "[encoded data removed]",
      "text/plain": [
       "<Figure size 432x288 with 1 Axes>"
      ]
     },
     "metadata": {
      "needs_background": "light"
     },
     "output_type": "display_data"
    },
    {
     "name": "stdout",
     "output_type": "stream",
     "text": [
      "Producto: FRIJOLES\n"
     ]
    },
    {
     "data": {
      "image/png": "[encoded data removed]",
      "text/plain": [
       "<Figure size 432x288 with 1 Axes>"
      ]
     },
     "metadata": {
      "needs_background": "light"
     },
     "output_type": "display_data"
    },
    {
     "name": "stdout",
     "output_type": "stream",
     "text": [
      "Producto: HUEVO\n"
     ]
    },
    {
     "data": {
      "image/png": "[encoded data removed]",
      "text/plain": [
       "<Figure size 432x288 with 1 Axes>"
      ]
     },
     "metadata": {
      "needs_background": "light"
     },
     "output_type": "display_data"
    }
   ],
   "source": [
    "plt.figure(figsize=(12,8))\n",
    "for producto in pregunta_1_2.producto.unique():\n",
    "    print(f'Producto: {producto}')    \n",
    "    pregunta_1_2[pregunta_1_2.producto==producto].sort_values(by='anio_fecha_registro').plot(x='anio_fecha_registro', y='avg_precio',kind='bar')    \n",
    "    plt.legend(bbox_to_anchor=(1, 1))    \n",
    "    plt.show()"
   ]
  },
  {
   "cell_type": "markdown",
   "id": "chemical-hygiene",
   "metadata": {},
   "source": [
    "### ¿Cuál es la ciudad más cara del país? ¿Cuál es la más barata?"
   ]
  },
  {
   "cell_type": "markdown",
   "id": "alpha-castle",
   "metadata": {},
   "source": [
    "Para simplificar esta  respuesta, utilizaremos la misma canasde productos basicos creada en la pregunta anterior. La ciudad más cara del pais sera aquella en la cual la suma del precio promedio de estos 3 productos sea mayor."
   ]
  },
  {
   "cell_type": "markdown",
   "id": "contained-friendly",
   "metadata": {},
   "source": [
    "Nota: Entiendo que la pregunta dice ciudad, sin embargo ya no me dara tiempo de obtener la ciudad a partir de las coordenadas, por lo que usaré el municipio"
   ]
  },
  {
   "cell_type": "code",
   "execution_count": 33,
   "id": "limited-scenario",
   "metadata": {},
   "outputs": [],
   "source": [
    "pregunta_2 = (data.filter(data.producto.isin(canasta_basica)).groupby('producto', 'municipio')\n",
    "              .agg(F.avg('precio').alias('avg_precio'))\n",
    "              .groupby('municipio').agg(F.sum('avg_precio').alias('precio_prom_canasta_basica')).toPandas())"
   ]
  },
  {
   "cell_type": "markdown",
   "id": "wireless-quest",
   "metadata": {},
   "source": [
    "De acuerdo a este análisis el municipio en el que la canasta básica es en promedio más cara es Colima. Aunque por la respuesta a la pregunta 1, sabemos que es por el huevo "
   ]
  },
  {
   "cell_type": "code",
   "execution_count": 34,
   "id": "fossil-request",
   "metadata": {},
   "outputs": [
    {
     "data": {
      "text/html": [
       "<div>\n",
       "<style scoped>\n",
       "    .dataframe tbody tr th:only-of-type {\n",
       "        vertical-align: middle;\n",
       "    }\n",
       "\n",
       "    .dataframe tbody tr th {\n",
       "        vertical-align: top;\n",
       "    }\n",
       "\n",
       "    .dataframe thead th {\n",
       "        text-align: right;\n",
       "    }\n",
       "</style>\n",
       "<table border=\"1\" class=\"dataframe\">\n",
       "  <thead>\n",
       "    <tr style=\"text-align: right;\">\n",
       "      <th></th>\n",
       "      <th>municipio</th>\n",
       "      <th>precio_prom_canasta_basica</th>\n",
       "    </tr>\n",
       "  </thead>\n",
       "  <tbody>\n",
       "    <tr>\n",
       "      <th>15</th>\n",
       "      <td>COLIMA</td>\n",
       "      <td>70.40</td>\n",
       "    </tr>\n",
       "  </tbody>\n",
       "</table>\n",
       "</div>"
      ],
      "text/plain": [
       "                                   municipio  precio_prom_canasta_basica\n",
       "15  COLIMA                                                         70.40"
      ]
     },
     "execution_count": 34,
     "metadata": {},
     "output_type": "execute_result"
    }
   ],
   "source": [
    "pregunta_2[pregunta_2.precio_prom_canasta_basica==pregunta_2.precio_prom_canasta_basica.max()]"
   ]
  },
  {
   "cell_type": "markdown",
   "id": "deadly-response",
   "metadata": {},
   "source": [
    "### ¿Hay algún patrón estacional entre años?"
   ]
  },
  {
   "cell_type": "code",
   "execution_count": 35,
   "id": "accepting-ordinary",
   "metadata": {},
   "outputs": [],
   "source": [
    "pregunta_3 = (data.filter(data.producto.isin(canasta_basica))\n",
    "                .select(F.month(\"fechaRegistro\").alias('mes_fecha_registro'),\n",
    "                        F.year(\"fechaRegistro\").alias('anio_fecha_registro'),'producto', 'precio')\n",
    "                .groupby('producto', 'anio_fecha_registro', 'mes_fecha_registro')\n",
    "              .agg(F.avg('precio').alias('avg_precio'))\n",
    "              .groupby('anio_fecha_registro', 'mes_fecha_registro')\n",
    "              .agg(F.sum('avg_precio').alias('precio_prom_canasta_basica'))\n",
    "              .toPandas()\n",
    "             )"
   ]
  },
  {
   "cell_type": "code",
   "execution_count": 38,
   "id": "artistic-display",
   "metadata": {},
   "outputs": [],
   "source": [
    "pregunta_3['anio_mes'] = pregunta_3.apply(lambda x: datetime(int(x['anio_fecha_registro']), int(x['mes_fecha_registro']), 1),axis=1)"
   ]
  },
  {
   "cell_type": "markdown",
   "id": "atlantic-setting",
   "metadata": {},
   "source": [
    "Para el precio promedio de la canasta básica se observa que de 2011 a 2013 los precios suben entre Julio y Enero y luego de Enero a Julio los precios bajan. Posterior a 2013 no se observa un patrón claro"
   ]
  },
  {
   "cell_type": "code",
   "execution_count": 39,
   "id": "completed-assets",
   "metadata": {
    "scrolled": true
   },
   "outputs": [
    {
     "data": {
      "image/png": "[encoded data removed]",
      "text/plain": [
       "<Figure size 576x360 with 1 Axes>"
      ]
     },
     "metadata": {
      "needs_background": "light"
     },
     "output_type": "display_data"
    }
   ],
   "source": [
    "ax = pregunta_3.sort_values('anio_mes').plot(x='anio_mes', y ='precio_prom_canasta_basica',figsize=(8,5))\n",
    "plt.show()"
   ]
  },
  {
   "cell_type": "markdown",
   "id": "macro-attention",
   "metadata": {},
   "source": [
    "### ¿Cuál es el estado más caro y en qué mes?"
   ]
  },
  {
   "cell_type": "markdown",
   "id": "pediatric-bahamas",
   "metadata": {},
   "source": [
    "Siguiendo la línea de la canasta básica determinaremos el estado más caro de acuerdo a los precios de la canasta básica y después analizaremos para que mes es más caro"
   ]
  },
  {
   "cell_type": "code",
   "execution_count": 40,
   "id": "adequate-style",
   "metadata": {},
   "outputs": [],
   "source": [
    "pregunta_4 = (data.filter(data.producto.isin(canasta_basica)).groupby('producto', 'estado')\n",
    "              .agg(F.avg('precio').alias('avg_precio'))\n",
    "              .groupby('estado').agg(F.sum('avg_precio').alias('precio_prom_canasta_basica')).toPandas())"
   ]
  },
  {
   "cell_type": "markdown",
   "id": "spoken-static",
   "metadata": {},
   "source": [
    "No es sorpresa que el estado más caro sea Colima, dada la selección que se hizo de la canasta básica"
   ]
  },
  {
   "cell_type": "code",
   "execution_count": 44,
   "id": "coral-destruction",
   "metadata": {},
   "outputs": [
    {
     "data": {
      "text/html": [
       "<div>\n",
       "<style scoped>\n",
       "    .dataframe tbody tr th:only-of-type {\n",
       "        vertical-align: middle;\n",
       "    }\n",
       "\n",
       "    .dataframe tbody tr th {\n",
       "        vertical-align: top;\n",
       "    }\n",
       "\n",
       "    .dataframe thead th {\n",
       "        text-align: right;\n",
       "    }\n",
       "</style>\n",
       "<table border=\"1\" class=\"dataframe\">\n",
       "  <thead>\n",
       "    <tr style=\"text-align: right;\">\n",
       "      <th></th>\n",
       "      <th>estado</th>\n",
       "      <th>precio_prom_canasta_basica</th>\n",
       "    </tr>\n",
       "  </thead>\n",
       "  <tbody>\n",
       "    <tr>\n",
       "      <th>31</th>\n",
       "      <td>COLIMA</td>\n",
       "      <td>70.36</td>\n",
       "    </tr>\n",
       "  </tbody>\n",
       "</table>\n",
       "</div>"
      ],
      "text/plain": [
       "    estado  precio_prom_canasta_basica\n",
       "31  COLIMA                       70.36"
      ]
     },
     "execution_count": 44,
     "metadata": {},
     "output_type": "execute_result"
    }
   ],
   "source": [
    "pregunta_4[pregunta_4.precio_prom_canasta_basica==pregunta_4.precio_prom_canasta_basica.max()]"
   ]
  },
  {
   "cell_type": "code",
   "execution_count": 45,
   "id": "naked-mouth",
   "metadata": {},
   "outputs": [],
   "source": [
    "pregunta_4_2 = (data.filter((data.producto.isin(canasta_basica)) & (data.estado=='COLIMA'))\n",
    " .select(F.month(\"fechaRegistro\").alias('mes_fecha_registro'), 'producto', 'precio')\n",
    " .groupby('producto', 'mes_fecha_registro')\n",
    " .agg(F.avg('precio').alias('avg_precio'))\n",
    " .groupby('mes_fecha_registro')\n",
    " .agg(F.sum('avg_precio').alias('precio_prom_canasta_basica'))\n",
    " .toPandas())"
   ]
  },
  {
   "cell_type": "markdown",
   "id": "major-identifier",
   "metadata": {},
   "source": [
    "El estado más caro es Colima en el mes de Mayo"
   ]
  },
  {
   "cell_type": "code",
   "execution_count": 46,
   "id": "conservative-interest",
   "metadata": {},
   "outputs": [
    {
     "data": {
      "text/plain": [
       "<matplotlib.legend.Legend at 0x7f6ed893e640>"
      ]
     },
     "execution_count": 46,
     "metadata": {},
     "output_type": "execute_result"
    },
    {
     "data": {
      "image/png": "[encoded data removed]",
      "text/plain": [
       "<Figure size 432x288 with 1 Axes>"
      ]
     },
     "metadata": {
      "needs_background": "light"
     },
     "output_type": "display_data"
    }
   ],
   "source": [
    "pregunta_4_2.sort_values('mes_fecha_registro').plot(x='mes_fecha_registro', y='precio_prom_canasta_basica', kind='bar')\n",
    "plt.legend(bbox_to_anchor=(1, 1))"
   ]
  },
  {
   "cell_type": "markdown",
   "id": "wicked-savannah",
   "metadata": {},
   "source": [
    "### ¿Cuáles son los principales riesgos de hacer análisis de series de tiempo con estos datos?"
   ]
  },
  {
   "cell_type": "markdown",
   "id": "proved-hopkins",
   "metadata": {},
   "source": [
    "De acuerdo a los resultados de la pregunta 2.3 la serie no es homoscedástica y además tiene tendencia creciente pero no es monotona; se ven caídas bastante fuertes. Este tipo de problemas se pueden corregir con técnicas utilizadas para modelar series de tiempo, sin embargo no aseguraría con la información que tengo hasta el momento que esto sería  la mejor opción."
   ]
  },
  {
   "cell_type": "markdown",
   "id": "mysterious-aggregate",
   "metadata": {},
   "source": [
    "## Visualización\n"
   ]
  },
  {
   "cell_type": "markdown",
   "id": "northern-excuse",
   "metadata": {},
   "source": [
    "Se me acabo el tiempo para resolver esta sección"
   ]
  }
 ],
 "metadata": {
  "kernelspec": {
   "display_name": "datos_publicos",
   "language": "python",
   "name": "datos_publicos"
  },
  "language_info": {
   "codemirror_mode": {
    "name": "ipython",
    "version": 3
   },
   "file_extension": ".py",
   "mimetype": "text/x-python",
   "name": "python",
   "nbconvert_exporter": "python",
   "pygments_lexer": "ipython3",
   "version": "3.8.5"
  },
  "toc": {
   "base_numbering": 1,
   "nav_menu": {},
   "number_sections": true,
   "sideBar": true,
   "skip_h1_title": false,
   "title_cell": "Table of Contents",
   "title_sidebar": "Contents",
   "toc_cell": false,
   "toc_position": {},
   "toc_section_display": true,
   "toc_window_display": false
  }
 },
 "nbformat": 4,
 "nbformat_minor": 5
}
