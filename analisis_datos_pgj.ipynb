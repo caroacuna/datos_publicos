{
 "cells": [
  {
   "cell_type": "markdown",
   "id": "hidden-frank",
   "metadata": {},
   "source": [
    "# Análisis de las carpetas de investigación aportados por la PGJ"
   ]
  },
  {
   "cell_type": "markdown",
   "id": "desirable-journal",
   "metadata": {},
   "source": [
    "Nota sobre los data: En la página donde viene la descripción de los data vienen dos links que supuestamente te llevan a los data, sin embargo ninguno de estos dos links sirve. Por lo que use los data que vienen en la sección de recursos que dice \"Carpetas de Investigación de la FGJ\". Quiero creer que estos data son los mismos o que al menos sirven para propósito de este ejercicio.  "
   ]
  },
  {
   "cell_type": "markdown",
   "id": "handled-audit",
   "metadata": {},
   "source": [
    "Objetivo: Analizar los datos de la Agencia Digital de Innovación Pública sobre las carpetas de investigación aportados por la PGJ."
   ]
  },
  {
   "cell_type": "code",
   "execution_count": 1,
   "id": "turkish-marriage",
   "metadata": {},
   "outputs": [],
   "source": [
    "import pandas as pd\n",
    "import numpy as np\n",
    "from datetime import datetime, timedelta\n",
    "import xlrd\n",
    "import seaborn as sns\n",
    "import matplotlib.pyplot as plt"
   ]
  },
  {
   "cell_type": "code",
   "execution_count": 2,
   "id": "scenic-grace",
   "metadata": {},
   "outputs": [
    {
     "name": "stderr",
     "output_type": "stream",
     "text": [
      "/home/meerkat/workspace/virtualenvs/datos_publicos/lib/python3.8/site-packages/IPython/core/interactiveshell.py:3169: DtypeWarning: Columns (5,15) have mixed types.Specify dtype option on import or set low_memory=False.\n",
      "  has_raised = await self.run_ast_nodes(code_ast.body, cell_name,\n"
     ]
    }
   ],
   "source": [
    "data = pd.read_csv('carpetas_completa_marzo_2021.csv')"
   ]
  },
  {
   "cell_type": "code",
   "execution_count": 3,
   "id": "atomic-czech",
   "metadata": {},
   "outputs": [
    {
     "data": {
      "text/plain": [
       "(1188790, 19)"
      ]
     },
     "execution_count": 3,
     "metadata": {},
     "output_type": "execute_result"
    }
   ],
   "source": [
    "data.shape"
   ]
  },
  {
   "cell_type": "code",
   "execution_count": 4,
   "id": "adaptive-publisher",
   "metadata": {},
   "outputs": [
    {
     "data": {
      "text/plain": [
       "Index(['ao_hechos', 'mes_hechos', 'fecha_hechos', 'ao_inicio', 'mes_inicio',\n",
       "       'fecha_inicio', 'delito', 'fiscalia', 'agencia', 'unidad_investigacion',\n",
       "       'categoria_delito', 'calle_hechos', 'calle_hechos2', 'colonia_hechos',\n",
       "       'alcaldia_hechos', 'competencia', 'longitud', 'latitud', 'tempo'],\n",
       "      dtype='object')"
      ]
     },
     "execution_count": 4,
     "metadata": {},
     "output_type": "execute_result"
    }
   ],
   "source": [
    "data.columns"
   ]
  },
  {
   "cell_type": "code",
   "execution_count": 5,
   "id": "chicken-custom",
   "metadata": {},
   "outputs": [
    {
     "data": {
      "text/html": [
       "<div>\n",
       "<style scoped>\n",
       "    .dataframe tbody tr th:only-of-type {\n",
       "        vertical-align: middle;\n",
       "    }\n",
       "\n",
       "    .dataframe tbody tr th {\n",
       "        vertical-align: top;\n",
       "    }\n",
       "\n",
       "    .dataframe thead th {\n",
       "        text-align: right;\n",
       "    }\n",
       "</style>\n",
       "<table border=\"1\" class=\"dataframe\">\n",
       "  <thead>\n",
       "    <tr style=\"text-align: right;\">\n",
       "      <th></th>\n",
       "      <th>ao_hechos</th>\n",
       "      <th>mes_hechos</th>\n",
       "      <th>fecha_hechos</th>\n",
       "      <th>ao_inicio</th>\n",
       "      <th>mes_inicio</th>\n",
       "      <th>fecha_inicio</th>\n",
       "      <th>delito</th>\n",
       "      <th>fiscalia</th>\n",
       "      <th>agencia</th>\n",
       "      <th>unidad_investigacion</th>\n",
       "      <th>categoria_delito</th>\n",
       "      <th>calle_hechos</th>\n",
       "      <th>calle_hechos2</th>\n",
       "      <th>colonia_hechos</th>\n",
       "      <th>alcaldia_hechos</th>\n",
       "      <th>competencia</th>\n",
       "      <th>longitud</th>\n",
       "      <th>latitud</th>\n",
       "      <th>tempo</th>\n",
       "    </tr>\n",
       "  </thead>\n",
       "  <tbody>\n",
       "    <tr>\n",
       "      <th>0</th>\n",
       "      <td>2016.0</td>\n",
       "      <td>Enero</td>\n",
       "      <td>2016-01-31 22:16:00</td>\n",
       "      <td>2016</td>\n",
       "      <td>Febrero</td>\n",
       "      <td>2016-02-01 00:25:44</td>\n",
       "      <td>DAÑO EN PROPIEDAD AJENA INTENCIONAL</td>\n",
       "      <td>INVESTIGACIÓN EN BENITO JUÁREZ</td>\n",
       "      <td>BJ-2</td>\n",
       "      <td>UI-3CD</td>\n",
       "      <td>DELITO DE BAJO IMPACTO</td>\n",
       "      <td>CALZ. DE TLALPAN</td>\n",
       "      <td>LAGO PTE.</td>\n",
       "      <td>AMÉRICAS UNIDAS</td>\n",
       "      <td>BENITO JUAREZ</td>\n",
       "      <td>NaN</td>\n",
       "      <td>-99.140215</td>\n",
       "      <td>19.380315</td>\n",
       "      <td>NaN</td>\n",
       "    </tr>\n",
       "  </tbody>\n",
       "</table>\n",
       "</div>"
      ],
      "text/plain": [
       "   ao_hechos mes_hechos         fecha_hechos  ao_inicio mes_inicio  \\\n",
       "0     2016.0      Enero  2016-01-31 22:16:00       2016    Febrero   \n",
       "\n",
       "          fecha_inicio                               delito  \\\n",
       "0  2016-02-01 00:25:44  DAÑO EN PROPIEDAD AJENA INTENCIONAL   \n",
       "\n",
       "                         fiscalia agencia unidad_investigacion  \\\n",
       "0  INVESTIGACIÓN EN BENITO JUÁREZ    BJ-2               UI-3CD   \n",
       "\n",
       "         categoria_delito      calle_hechos calle_hechos2   colonia_hechos  \\\n",
       "0  DELITO DE BAJO IMPACTO  CALZ. DE TLALPAN     LAGO PTE.  AMÉRICAS UNIDAS   \n",
       "\n",
       "  alcaldia_hechos competencia   longitud    latitud  tempo  \n",
       "0   BENITO JUAREZ         NaN -99.140215  19.380315    NaN  "
      ]
     },
     "execution_count": 5,
     "metadata": {},
     "output_type": "execute_result"
    }
   ],
   "source": [
    "data.head(1)"
   ]
  },
  {
   "cell_type": "markdown",
   "id": "medical-brooks",
   "metadata": {},
   "source": [
    "<font size=5> Describe general y entendimiento de la base"
   ]
  },
  {
   "cell_type": "markdown",
   "id": "amazing-mechanism",
   "metadata": {},
   "source": [
    "Antes de iniciar con las preguntas verificare que en efecto esta base de data tenga relación con lo que dice en la descripción. Se supone que la base contiene información a partir de enero de 2016 y en la página hasta abajo dice que la última actualización a la base fue hecha el 26 de abril de 2021. No encontré ningúna descripción de las columnas en la página pero afortunadamente los nombres son bastante explicativos. Asumiré que fecha hechos corresponde a la fecha en que ocurrió el délito y que fecha_inicio corresponde a la fecha en que se registro el delito en la carpeta de investigación"
   ]
  },
  {
   "cell_type": "code",
   "execution_count": null,
   "id": "earlier-bishop",
   "metadata": {
    "scrolled": true
   },
   "outputs": [],
   "source": [
    "data.info()"
   ]
  },
  {
   "cell_type": "markdown",
   "id": "saving-connectivity",
   "metadata": {},
   "source": [
    "Se eliminaron los nulos para la variable \"fecha hechos\" ya que representaban solo el 0.04% del total y seguramente será conveniente tener esta variable en formato datetime. Considero que para este ejercicio no vale la pena intentar imputar los nulos para esta variable"
   ]
  },
  {
   "cell_type": "code",
   "execution_count": null,
   "id": "unavailable-smile",
   "metadata": {},
   "outputs": [],
   "source": [
    "data = data.dropna(subset=['fecha_hechos'])"
   ]
  },
  {
   "cell_type": "markdown",
   "id": "floating-terrorist",
   "metadata": {},
   "source": [
    "La fecha inicio viene con errores (o eso creo) en algunos renglones, primero pense que era el formato de fecha que tiene excel pero intente transformarlo y me decía que el número era muy grande para ser transformado. Decidí no perder mucho tiempo en esto porque estos registros solo representaban el 1.7% de la tabla "
   ]
  },
  {
   "cell_type": "code",
   "execution_count": null,
   "id": "controversial-belief",
   "metadata": {},
   "outputs": [],
   "source": [
    "data['fecha_inicio'].head(5), data['fecha_inicio'].tail(5)"
   ]
  },
  {
   "cell_type": "code",
   "execution_count": null,
   "id": "recent-native",
   "metadata": {},
   "outputs": [],
   "source": [
    "data = data[data['fecha_inicio'].str.startswith('20').fillna(False)]"
   ]
  },
  {
   "cell_type": "code",
   "execution_count": null,
   "id": "correct-schema",
   "metadata": {},
   "outputs": [],
   "source": [
    "data.shape"
   ]
  },
  {
   "cell_type": "code",
   "execution_count": null,
   "id": "brown-ambassador",
   "metadata": {},
   "outputs": [],
   "source": [
    "data['fecha_hechos'] = data['fecha_hechos'].apply(lambda x: datetime.strptime(str(x), '%Y-%m-%d %H:%M:%S'))\n",
    "data['fecha_inicio'] = data['fecha_inicio'].apply(lambda x: datetime.strptime(str(x), '%Y-%m-%d %H:%M:%S'))"
   ]
  },
  {
   "cell_type": "markdown",
   "id": "allied-advertising",
   "metadata": {},
   "source": [
    "## ¿Qué pruebas identificarías para asegurar la calidad de estos data?"
   ]
  },
  {
   "cell_type": "markdown",
   "id": "cellular-morrison",
   "metadata": {},
   "source": [
    "* Verificaría duplicados\n",
    "* Homologación de catálogos (se menciona en la página que hubo un cambio pero no dice en que status se dejó la tabla)\n",
    "* Revisaría que las fechas hagan sentido y vengan en formato correcto (ya lo hice un poco en la parte de arriba)\n",
    "* Revisaría una muestra pequeña a nivel registro para ver que los datos, hagan sentido. Al ser una base de México con datos que me son familiares, podría hacerlo\n",
    "* Revisar valores máximos y mínimos, valores negativos"
   ]
  },
  {
   "cell_type": "markdown",
   "id": "italian-outline",
   "metadata": {},
   "source": [
    "## ¿Cuántos delitos registrados hay en la tabla? ¿Qué rango de tiempo consideran los data?"
   ]
  },
  {
   "cell_type": "markdown",
   "id": "binary-paintball",
   "metadata": {},
   "source": [
    "Inicialmente se tenían 1,188,790 registros, sin embargo con los registros que se han tirado por nulidad o errores en el formato, nos quedamos con 1,167,854. La tabla contiene investigaciones registradas a partir de 2016 hasta 2021 para delitos ocurridos desde 1906 (asumiendo que no hay error en la captura de los datos)"
   ]
  },
  {
   "cell_type": "code",
   "execution_count": null,
   "id": "private-nurse",
   "metadata": {
    "scrolled": true
   },
   "outputs": [],
   "source": [
    "data.fecha_inicio.dt.year.value_counts()"
   ]
  },
  {
   "cell_type": "code",
   "execution_count": null,
   "id": "mighty-indian",
   "metadata": {
    "scrolled": true
   },
   "outputs": [],
   "source": [
    "data.fecha_hechos.min()"
   ]
  },
  {
   "cell_type": "markdown",
   "id": "civic-cabin",
   "metadata": {},
   "source": [
    "## ¿Cómo se distribuye el número de delitos en la CDMX? ¿Cuáles son los 5 delitos más frecuentes?"
   ]
  },
  {
   "cell_type": "markdown",
   "id": "middle-discretion",
   "metadata": {},
   "source": [
    "Los datos contienen delitos ocurridos en otros lugares que no son CDMX por lo que primero filtraremos las alcadias de CDMX. Una explicación a esto podría ser porque el delito se denunció en CDMX aunque haya ocurrido en otro lado o porque se mezclo información de otros estados en esta base. "
   ]
  },
  {
   "cell_type": "code",
   "execution_count": null,
   "id": "middle-actor",
   "metadata": {},
   "outputs": [],
   "source": [
    "alcaldias_cdmx = list(data.alcaldia_hechos.value_counts().head(16).index)"
   ]
  },
  {
   "cell_type": "code",
   "execution_count": null,
   "id": "provincial-desktop",
   "metadata": {},
   "outputs": [],
   "source": [
    "data_cdmx = data[data.alcaldia_hechos.isin(alcaldias_cdmx)]"
   ]
  },
  {
   "cell_type": "markdown",
   "id": "turned-newcastle",
   "metadata": {},
   "source": [
    "Observaremos la distribución de delitos por delegación para validar que los datos hagan sentido y vemos que en efecto la mayoría de los delitos están concentrados en delegaciones consideradas \"peligrosas\" y en las que hay mucho movimiento diarimente."
   ]
  },
  {
   "cell_type": "code",
   "execution_count": null,
   "id": "stone-wound",
   "metadata": {},
   "outputs": [],
   "source": [
    "ax = (sns.histplot(data_cdmx.groupby(['alcaldia_hechos']).size(), bins=8)\n",
    "      .set_title('Distribución de delitos en  CDMX por año y alcaldía'))"
   ]
  },
  {
   "cell_type": "code",
   "execution_count": null,
   "id": "funded-church",
   "metadata": {},
   "outputs": [],
   "source": [
    "data_cdmx.alcaldia_hechos.value_counts()"
   ]
  },
  {
   "cell_type": "markdown",
   "id": "electric-scholar",
   "metadata": {},
   "source": [
    "<font size=4>Distribución del número de delitos por tipo"
   ]
  },
  {
   "cell_type": "markdown",
   "id": "satellite-instrument",
   "metadata": {},
   "source": [
    "La distribución no se puede apreciar porque se tiene valores muy atípicos para el conteo por tipo de delitos"
   ]
  },
  {
   "cell_type": "code",
   "execution_count": null,
   "id": "violent-router",
   "metadata": {
    "scrolled": true
   },
   "outputs": [],
   "source": [
    "ax = sns.histplot(data_cdmx.delito.value_counts()).set_title('Distribución de número de delitos por tipo en CDMX')"
   ]
  },
  {
   "cell_type": "markdown",
   "id": "leading-canal",
   "metadata": {},
   "source": [
    "Misma gráfica que la anterior pero con el conteo hasta el cuantil 95"
   ]
  },
  {
   "cell_type": "code",
   "execution_count": null,
   "id": "innocent-column",
   "metadata": {},
   "outputs": [],
   "source": [
    "aux = data_cdmx.delito.value_counts().rename('conteo_delitos').reset_index()\n",
    "ax = sns.histplot(aux[aux.conteo_delitos<aux.conteo_delitos.quantile(0.95)], bins=20).set_title('Distribución de delitos en CDMX por categoría')"
   ]
  },
  {
   "cell_type": "markdown",
   "id": "aerial-daniel",
   "metadata": {},
   "source": [
    "<font size=4>Los 5 delitos más comunes en CDMX son: "
   ]
  },
  {
   "cell_type": "code",
   "execution_count": null,
   "id": "reserved-wallpaper",
   "metadata": {},
   "outputs": [],
   "source": [
    "data_cdmx.delito.value_counts().head(5)"
   ]
  },
  {
   "cell_type": "markdown",
   "id": "balanced-guinea",
   "metadata": {},
   "source": [
    "## Identifica los delitos que van a la alza y a la baja en la CDMX en el último año, (ten cuidado con los delitos con pocas ocurrencias)."
   ]
  },
  {
   "cell_type": "markdown",
   "id": "contemporary-potential",
   "metadata": {},
   "source": [
    "Supondremos que 10 es un buen mínimo de delitos para poder compararlo entre distintos años"
   ]
  },
  {
   "cell_type": "code",
   "execution_count": null,
   "id": "nonprofit-volleyball",
   "metadata": {},
   "outputs": [],
   "source": [
    "delitos_preg4= list((data_cdmx.delito.value_counts()>10).index)"
   ]
  },
  {
   "cell_type": "markdown",
   "id": "powerful-refrigerator",
   "metadata": {},
   "source": [
    "Para identificar los delitos que van a la alza o a la baja compararemos el número de delitos por tipo del último año contra el número de delitos por tipo en el año previo."
   ]
  },
  {
   "cell_type": "code",
   "execution_count": null,
   "id": "brazilian-privacy",
   "metadata": {},
   "outputs": [],
   "source": [
    "ultimo_anio = data_cdmx[(data_cdmx.fecha_inicio>=(data_cdmx.fecha_inicio.max()  - timedelta(days=365)))\n",
    "                        & (data_cdmx.delito.isin(delitos_preg4))]\n",
    "anio_previo = data_cdmx[(data_cdmx.fecha_inicio<=(data_cdmx.fecha_inicio.max()  - timedelta(days=365)))\n",
    "                        & (data_cdmx.fecha_inicio>=(data_cdmx.fecha_inicio.max()  - timedelta(days=730)))\n",
    "                        & (data_cdmx.delito.isin(delitos_preg4))]"
   ]
  },
  {
   "cell_type": "code",
   "execution_count": null,
   "id": "excellent-occasions",
   "metadata": {},
   "outputs": [],
   "source": [
    "pregunta_4 = (ultimo_anio.delito.value_counts().rename('conteo_ultimo_anio').reset_index()\n",
    " .merge(anio_previo.delito.value_counts().rename('conteo_anio_previo').reset_index()))\n",
    "\n",
    "pregunta_4['cambios_ultimo_anio'] = (pregunta_4['conteo_ultimo_anio'] - pregunta_4['conteo_anio_previo'])/pregunta_4['conteo_anio_previo']"
   ]
  },
  {
   "cell_type": "markdown",
   "id": "initial-messaging",
   "metadata": {},
   "source": [
    "Al comparar el último año con el año previo se observa que para más de la mitad de los distintos tipos de delitos han disminuido las denuncias. Aunque sabemos que el último año podría estar subestimado por la pandemia ya que el confinamiento y el miedo a contagiarse pudo haber evitado que mucha gente presentara denuncias. Además que no estoy 100% segura que el catálogo este homologado por lo que un mismo delito podría estar apareciendo con distintos nombres."
   ]
  },
  {
   "cell_type": "code",
   "execution_count": null,
   "id": "international-cleveland",
   "metadata": {},
   "outputs": [],
   "source": [
    "pregunta_4.cambios_ultimo_anio.describe(percentiles = np.arange(0,1,0.1))"
   ]
  },
  {
   "cell_type": "markdown",
   "id": "bound-nicaragua",
   "metadata": {},
   "source": [
    "## ¿Cuál es la alcaldía que más delitos tiene y cuál es la que menos?. ¿Por qué crees que sea esto?"
   ]
  },
  {
   "cell_type": "markdown",
   "id": "olympic-organizer",
   "metadata": {},
   "source": [
    "### Alcaldia con más delitos"
   ]
  },
  {
   "cell_type": "code",
   "execution_count": null,
   "id": "cordless-building",
   "metadata": {},
   "outputs": [],
   "source": [
    "data_cdmx.alcaldia_hechos.value_counts().head(1) "
   ]
  },
  {
   "cell_type": "markdown",
   "id": "monetary-suffering",
   "metadata": {},
   "source": [
    "### Alcaldia con menos delitos"
   ]
  },
  {
   "cell_type": "code",
   "execution_count": null,
   "id": "peaceful-cruise",
   "metadata": {},
   "outputs": [],
   "source": [
    "data_cdmx.alcaldia_hechos.value_counts().tail(1) "
   ]
  },
  {
   "cell_type": "markdown",
   "id": "binary-timer",
   "metadata": {},
   "source": [
    "A pesar de que Milpa Alta es mucho más grande que Cuauhtemoc, las oportunidades de trabajo y muchas otras actividades están concentradas alrededor en Cuauhtemoc y sus alrededores. Por lo mismo es una delegación con mayor flujo de personas y de dinero entonces podría estar ocurriendo lo siguiente (entre otras cosas seguramente):\n",
    "\n",
    "1.- En efecto hay más delitos\n",
    "\n",
    "2.- Es más fácil presentar una denuncia porque existen más lugares para hacerlo \n",
    "\n",
    "3.- La gente de Cuautemoc ve valor en presentar denuncias porque son mejor atendidas que las de Milpa Alta"
   ]
  },
  {
   "cell_type": "markdown",
   "id": "upset-remark",
   "metadata": {},
   "source": [
    "## Dentro de cada alcaldía, cuáles son las tres colonias con más delitos"
   ]
  },
  {
   "cell_type": "code",
   "execution_count": null,
   "id": "electric-pontiac",
   "metadata": {},
   "outputs": [],
   "source": [
    "pregunta_6 = data_cdmx.groupby(['alcaldia_hechos', 'colonia_hechos']).size().rename('conteo_delitos').sort_values(ascending=False).reset_index()"
   ]
  },
  {
   "cell_type": "code",
   "execution_count": null,
   "id": "heavy-present",
   "metadata": {},
   "outputs": [],
   "source": [
    "for alcaldia in alcaldias_cdmx:\n",
    "    print(f\"\\n{alcaldia}\")\n",
    "    print(pregunta_6[pregunta_6.alcaldia_hechos==alcaldia].head(3).colonia_hechos.values)"
   ]
  },
  {
   "cell_type": "markdown",
   "id": "protected-mortgage",
   "metadata": {},
   "source": [
    "## ¿Existe alguna tendencia estacional en la ocurrencia de delitos (mes, semana, día de la semana, quincenas)?"
   ]
  },
  {
   "cell_type": "markdown",
   "id": "abroad-roller",
   "metadata": {},
   "source": [
    "Planeaba usar esta librereía para resolver esta p regunta pero no me corrió a la primera y ya no le pude invertir más tiempo"
   ]
  },
  {
   "cell_type": "code",
   "execution_count": null,
   "id": "regular-synthetic",
   "metadata": {},
   "outputs": [],
   "source": [
    "from statsmodels.tsa.seasonal import seasonal_decompose"
   ]
  },
  {
   "cell_type": "markdown",
   "id": "developed-pressure",
   "metadata": {},
   "source": [
    "## ¿Cuáles son los delitos que más caracterizan a cada alcaldía? Es decir, delitos que suceden con mayor frecuencia en una alcaldía y con menor frecuencia en las demás"
   ]
  },
  {
   "cell_type": "markdown",
   "id": "owned-necessity",
   "metadata": {},
   "source": [
    "Al igual que en la pregunta 4 quite los delitos con pocas observaciones y porque me interesa el tema decidi juntar los delitos que inician con la palabra feminicidio"
   ]
  },
  {
   "cell_type": "markdown",
   "id": "laden-funds",
   "metadata": {},
   "source": [
    "En el siguiente mapa de calor que muestra la distribución del número  de delitos por tipo para cada alcaldía vemos lo siguiente:\n",
    "* El robo a negocio con violencia tiene una porcentaje de ocurrencia mucho mayor en Milpa Alta\n",
    "* El homicidio por arma de fuego tiene una porcentaje de ocurrencia mucho mayor en Gustavo A Madero mientras que en Benito Juarez es muy bajo\n",
    "* El feminicidio aunque tiene un porcentaje bajo respecto a otros delitos (seguramente porque algunos son registrados como algun tipo de homicidio), está presente en todas las alcaldías"
   ]
  },
  {
   "cell_type": "code",
   "execution_count": null,
   "id": "nutritional-submission",
   "metadata": {},
   "outputs": [],
   "source": [
    "aux = data_cdmx[data_cdmx.categoria_delito.isin(delitos_preg4)]\n",
    "aux['delito'] = aux['delito'].apply(lambda x: 'FEMINICIDIO' if 'FEMINICIDIO' in x else x)"
   ]
  },
  {
   "cell_type": "code",
   "execution_count": null,
   "id": "bronze-engine",
   "metadata": {},
   "outputs": [],
   "source": [
    "a = aux.groupby(['alcaldia_hechos', 'delito']).size()"
   ]
  },
  {
   "cell_type": "code",
   "execution_count": null,
   "id": "approximate-spyware",
   "metadata": {},
   "outputs": [],
   "source": [
    "data_preg8 = (a / a.groupby(level=0).sum()).rename('porcentaje_ocurrencia').reset_index()"
   ]
  },
  {
   "cell_type": "code",
   "execution_count": null,
   "id": "personalized-count",
   "metadata": {},
   "outputs": [],
   "source": [
    "data_preg8_ = data_preg8.pivot(index='delito', columns='alcaldia_hechos', values='porcentaje_ocurrencia')"
   ]
  },
  {
   "cell_type": "code",
   "execution_count": null,
   "id": "remarkable-music",
   "metadata": {},
   "outputs": [],
   "source": [
    "plt.figure(figsize=(20,12))\n",
    "ax = sns.heatmap(data_preg8_)"
   ]
  },
  {
   "cell_type": "markdown",
   "id": "designing-contribution",
   "metadata": {},
   "source": [
    "## Calcula el número de homicidios dolosos por cada 100 mil habitantes anual para cada Área Geoestadística Básica (AGEB) del INEGI. "
   ]
  },
  {
   "cell_type": "markdown",
   "id": "distributed-alexandria",
   "metadata": {},
   "source": [
    "Usaremos la librería de geopandas y los shapefiles del inegi para identificar a que AGEB pertenece cada delito usando su latitud y longitud. Una vez que tengamos identificados los AGEB, veremos cuantos delitos de homicidios dolosos ocurrieron por AGEB, lo compararemos contra el número de habitantes para ese AGEB y obtendremos el indicar de \"número de homicidios dolosos por cada 100 mil habitantes\""
   ]
  },
  {
   "cell_type": "code",
   "execution_count": null,
   "id": "cooked-camping",
   "metadata": {},
   "outputs": [],
   "source": [
    "import geopandas as gpd"
   ]
  },
  {
   "cell_type": "markdown",
   "id": "alert-viking",
   "metadata": {},
   "source": [
    "Este shapefile fue obtenido de la siguiente liga https://www.inegi.org.mx/app/mapas/?t=0710000000000000&tg=3604#Busqueda_basica con el filtro para CDMX"
   ]
  },
  {
   "cell_type": "code",
   "execution_count": null,
   "id": "progressive-tennessee",
   "metadata": {},
   "outputs": [],
   "source": [
    "ageb_sh = gpd.read_file('cdmx/09a.shp').to_crs(epsg=4326)"
   ]
  },
  {
   "cell_type": "code",
   "execution_count": null,
   "id": "democratic-camping",
   "metadata": {},
   "outputs": [],
   "source": [
    "data_p9 = data_cdmx[data_cdmx.categoria_delito=='HOMICIDIO DOLOSO'].copy()\n",
    "data_p9_geometry = gpd.GeoDataFrame(data_p9, geometry=gpd.points_from_xy(data_p9.longitud, data_p9.latitud)).set_crs(epsg=4326)\n",
    "data_p9_ageb = gpd.sjoin(data_p9_geometry, ageb_sh, how='left')"
   ]
  },
  {
   "cell_type": "code",
   "execution_count": null,
   "id": "different-austin",
   "metadata": {},
   "outputs": [],
   "source": [
    "homicidios_por_ageb = data_p9_ageb.groupby('cvegeo').size().rename('numero_homicidios_dolosos').reset_index()"
   ]
  },
  {
   "cell_type": "markdown",
   "id": "radio-specification",
   "metadata": {},
   "source": [
    "Datos de población por ageb, obtenidos de esta liga: https://www.inegi.org.mx/sistemas/scitel/default?ev=7\n",
    "Nota: Se uso el criterio de población total"
   ]
  },
  {
   "cell_type": "code",
   "execution_count": null,
   "id": "discrete-wagon",
   "metadata": {},
   "outputs": [],
   "source": [
    "poblacion = pd.read_csv('poblacion_por_ageb.txt', dtype={'ENTIDAD':str, 'MUN':str, 'LOC':str, 'AGEB': str})\n",
    "poblacion['cvegeo'] = poblacion.apply(lambda x: x['ENTIDAD'] + x['MUN']+ x['LOC']+ x['AGEB'], axis=1)\n",
    "poblacion_por_ageb = poblacion.groupby(['cvegeo'])['P_TOTAL'].sum().reset_index()"
   ]
  },
  {
   "cell_type": "code",
   "execution_count": null,
   "id": "technical-advocacy",
   "metadata": {},
   "outputs": [],
   "source": [
    "resp_p9 = homicidios_por_ageb.merge(poblacion_por_ageb, how='left')"
   ]
  },
  {
   "cell_type": "markdown",
   "id": "fossil-uzbekistan",
   "metadata": {},
   "source": [
    "Nota: Desafortunadamente para la base que encontre no viene la población para todos los agebs, pero en caso de tener los registros completos para todos los agebs este sería el procedimiento"
   ]
  },
  {
   "cell_type": "code",
   "execution_count": null,
   "id": "residential-lightweight",
   "metadata": {},
   "outputs": [],
   "source": [
    "resp_p9['P_TOTAL'].isnull().sum(), resp_p9.shape"
   ]
  },
  {
   "cell_type": "code",
   "execution_count": null,
   "id": "spanish-chance",
   "metadata": {},
   "outputs": [],
   "source": [
    "resp_p9.dropna(subset= ['P_TOTAL'], inplace=True)"
   ]
  },
  {
   "cell_type": "code",
   "execution_count": null,
   "id": "earned-virgin",
   "metadata": {},
   "outputs": [],
   "source": [
    "resp_p9['indicador'] = resp_p9.apply(lambda x: 100000*x['numero_homicidios_dolosos']/x['P_TOTAL'] if x['P_TOTAL']>0 else 0, axis=1)"
   ]
  },
  {
   "cell_type": "code",
   "execution_count": null,
   "id": "welcome-mercury",
   "metadata": {},
   "outputs": [],
   "source": [
    "resp_p9.head()"
   ]
  },
  {
   "cell_type": "markdown",
   "id": "certified-witness",
   "metadata": {},
   "source": [
    "### Pinta un mapa con este indicador. Describe los resultados."
   ]
  },
  {
   "cell_type": "markdown",
   "id": "senior-anaheim",
   "metadata": {},
   "source": [
    "Nota: No se visualizan todos los agebs ya que como comente en el punto anterior no encontre la población para todos."
   ]
  },
  {
   "cell_type": "code",
   "execution_count": null,
   "id": "natural-shoulder",
   "metadata": {},
   "outputs": [],
   "source": [
    "data_mapa = ageb_sh.set_index(\"cvegeo\").join(resp_p9.set_index(\"cvegeo\"))"
   ]
  },
  {
   "cell_type": "code",
   "execution_count": null,
   "id": "distributed-cancellation",
   "metadata": {},
   "outputs": [],
   "source": [
    "vmin, vmax = 0, data_mapa.indicador.max()\n",
    "fig, ax = plt.subplots(1, figsize=(15, 12))\n",
    "data_mapa.plot(column='indicador', ax=ax, cmap='BuGn', linewidth=0.8, edgecolor='0.3')\n",
    "sm = plt.cm.ScalarMappable(cmap='BuGn', norm=plt.Normalize(vmin=vmin, vmax=vmax))\n",
    "cbar = fig.colorbar(sm)"
   ]
  },
  {
   "cell_type": "markdown",
   "id": "devoted-journey",
   "metadata": {},
   "source": [
    "Tenemos casos en que la población es muy baja y hace que el indicador se vuelva muy grande. Esto hace que no veamos distinción en el mapa por los indicadores que son muy altos. Para ver un mapa un poco más ilustrativo filtraremos los indicadores que tienen una población mayor al percentil 10."
   ]
  },
  {
   "cell_type": "code",
   "execution_count": null,
   "id": "institutional-blackjack",
   "metadata": {},
   "outputs": [],
   "source": [
    "data_mapa_filtro = data_mapa[data_mapa.P_TOTAL>data_mapa.P_TOTAL.quantile(.1)]"
   ]
  },
  {
   "cell_type": "code",
   "execution_count": null,
   "id": "golden-terror",
   "metadata": {},
   "outputs": [],
   "source": [
    "vmin, vmax = 0, data_mapa_filtro.indicador.max()\n",
    "fig, ax = plt.subplots(1, figsize=(15, 12))\n",
    "data_mapa_filtro.plot(column='indicador', ax=ax, cmap='BuGn', linewidth=0.8, edgecolor='0.3')\n",
    "sm = plt.cm.ScalarMappable(cmap='BuGn', norm=plt.Normalize(vmin=vmin, vmax=vmax))\n",
    "cbar = fig.colorbar(sm)"
   ]
  },
  {
   "cell_type": "markdown",
   "id": "interracial-sociology",
   "metadata": {},
   "source": [
    "En este nuevo mapa vemos un poco mejor el valor que toma el indicador  por AGEB. A simple vista se observa que el indicador toma valores altos en la delegación Cuauhtemoc y en  la delegación Gustavo A Madero. Aunque ya lo sabiamos por los análisis previos"
   ]
  },
  {
   "cell_type": "markdown",
   "id": "dressed-aaron",
   "metadata": {},
   "source": [
    "## ¿Cómo diseñarías un indicador que midiera el nivel “inseguridad”? \n",
    "Diséñalo al nivel de desagregación que te parezca más adecuado (ej. manzana, calle, AGEB, etc.)"
   ]
  },
  {
   "cell_type": "markdown",
   "id": "flexible-cooking",
   "metadata": {},
   "source": [
    "Se creará un indicador de inseguridad por ageb que comparará el número de delitos que no sean: DELITO DE BAJO IMPACTO y HECHO NO DELICTIVO contra el área del ageb en m2. Este indicador sera un estimador de la concentración de delitos por km2. \n",
    "\n",
    "El indicador se construira de la siguiente forma: **Número de delitos registrados en ageb/area en km2**"
   ]
  },
  {
   "cell_type": "code",
   "execution_count": null,
   "id": "naval-patient",
   "metadata": {},
   "outputs": [],
   "source": [
    "# Se paso el poligono a proyección cea y se transformo a km2:\n",
    "#\"La proyección cilíndrica de áreas equivalentes presenta el mundo como un rectángulo,\n",
    "#mientras mantiene las áreas relativas en un mapa.\"\n",
    "ageb_sh['area'] = ageb_sh['geometry'].to_crs({'proj':'cea'}) .map(lambda p: p.area/ 10**6)"
   ]
  },
  {
   "cell_type": "code",
   "execution_count": null,
   "id": "thousand-panic",
   "metadata": {},
   "outputs": [],
   "source": [
    "data_p10 = data_cdmx[~data_cdmx.categoria_delito.isin(['DELITO DE BAJO IMPACTO', 'HECHO NO DELICTIVO'])].copy()\n",
    "data_p10_geometry = gpd.GeoDataFrame(data_p10, geometry=gpd.points_from_xy(data_p10.longitud, data_p10.latitud)).set_crs(epsg=4326)\n",
    "data_p10_ageb = gpd.sjoin(data_p10_geometry, ageb_sh, how='left')"
   ]
  },
  {
   "cell_type": "code",
   "execution_count": null,
   "id": "invalid-engagement",
   "metadata": {},
   "outputs": [],
   "source": [
    "delitos_por_ageb = data_p10_ageb.groupby(['cvegeo']).size().rename('numero_delitos').reset_index()"
   ]
  },
  {
   "cell_type": "code",
   "execution_count": null,
   "id": "convertible-assignment",
   "metadata": {},
   "outputs": [],
   "source": [
    "data_mapa_10 = ageb_sh.set_index(\"cvegeo\").join(delitos_por_ageb.set_index(\"cvegeo\"))"
   ]
  },
  {
   "cell_type": "code",
   "execution_count": null,
   "id": "completed-helicopter",
   "metadata": {},
   "outputs": [],
   "source": [
    "data_mapa_10['indicador'] = data_mapa_10['numero_delitos']/data_mapa_10['area']"
   ]
  },
  {
   "cell_type": "markdown",
   "id": "posted-district",
   "metadata": {},
   "source": [
    "De acuerdo a este indicador se observa un mayor nivel de inseguridad para los AGEBS marcados en verde fuerte, es decir las alcadias de Cuauhtemoc, Miguel y Hidalgo y Benito Juárez"
   ]
  },
  {
   "cell_type": "code",
   "execution_count": null,
   "id": "finnish-simulation",
   "metadata": {},
   "outputs": [],
   "source": [
    "vmin, vmax = 0, data_mapa_10.indicador.max()\n",
    "fig, ax = plt.subplots(1, figsize=(15, 12))\n",
    "data_mapa_10.plot(column='indicador', ax=ax, cmap='BuGn', linewidth=0.8, edgecolor='0.3')\n",
    "sm = plt.cm.ScalarMappable(cmap='BuGn', norm=plt.Normalize(vmin=vmin, vmax=vmax))\n",
    "cbar = fig.colorbar(sm)"
   ]
  },
  {
   "cell_type": "markdown",
   "id": "sudden-applicant",
   "metadata": {},
   "source": [
    "## Con alguna de las medidas de crimen que calculaste en los incisos anteriores, encuentra patrones de concentración geográfica de delitos \n",
    "(hint: puedes usar algoritmos de Machine Learning no supervisados)."
   ]
  },
  {
   "cell_type": "markdown",
   "id": "unauthorized-steps",
   "metadata": {},
   "source": [
    "Para identificar patrones de concentración  o clusters con base en el  indicador de inseguridad que se creo en el inciso anterior usaremos el algoritmo de Kmeans (use este porque es el más facil y tengo poco tiempo). Las variables utilizadas serán las coordenadas del centroide del poligono y el indicador de inseguridad"
   ]
  },
  {
   "cell_type": "code",
   "execution_count": null,
   "id": "inner-latvia",
   "metadata": {},
   "outputs": [],
   "source": [
    "from sklearn.cluster import KMeans"
   ]
  },
  {
   "cell_type": "code",
   "execution_count": null,
   "id": "dated-rally",
   "metadata": {},
   "outputs": [],
   "source": [
    "data_mapa_10[\"x\"] = data_mapa_10.centroid.map(lambda p: p.x)\n",
    "data_mapa_10[\"y\"] = data_mapa_10.centroid.map(lambda p: p.y)"
   ]
  },
  {
   "cell_type": "code",
   "execution_count": null,
   "id": "opposed-inventory",
   "metadata": {},
   "outputs": [],
   "source": [
    "X = data_mapa_10[['indicador', 'x', 'y']].dropna()"
   ]
  },
  {
   "cell_type": "markdown",
   "id": "durable-parcel",
   "metadata": {},
   "source": [
    "Basandonos en el elbow method el número óptimo de clusters es 3"
   ]
  },
  {
   "cell_type": "code",
   "execution_count": null,
   "id": "impossible-casino",
   "metadata": {},
   "outputs": [],
   "source": [
    "max_clusters=6\n",
    "sscc = [] #Sum of squared distances of samples to their closest cluster center.\n",
    "for i in range(1,max_clusters+1):\n",
    "    kmeans = KMeans(n_clusters=i, random_state=14).fit(X)    \n",
    "    sscc.append(kmeans.inertia_)\n",
    "plt.plot(range(1,max_clusters+1), sscc)\n",
    "plt.title(\"Elbow method\")\n",
    "plt.show()"
   ]
  },
  {
   "cell_type": "code",
   "execution_count": null,
   "id": "dominican-nation",
   "metadata": {},
   "outputs": [],
   "source": [
    "kmeans = KMeans(n_clusters=3, random_state=14).fit(X) \n",
    "X['labels'] = kmeans.labels_"
   ]
  },
  {
   "cell_type": "code",
   "execution_count": null,
   "id": "rubber-emergency",
   "metadata": {},
   "outputs": [],
   "source": [
    "data_mapa_11 = ageb_sh.set_index(\"cvegeo\").join(X)"
   ]
  },
  {
   "cell_type": "markdown",
   "id": "civic-opera",
   "metadata": {},
   "source": [
    "De acuerdo al algoritmo de Kmeans se encontraron 3 puntos de concentración dado la ubicación geográfica y el indicador de inseguridad"
   ]
  },
  {
   "cell_type": "code",
   "execution_count": null,
   "id": "stylish-cleaners",
   "metadata": {},
   "outputs": [],
   "source": [
    "fig, ax = plt.subplots(1, figsize=(15, 12))\n",
    "data_mapa_11.plot(column='labels', ax=ax,linewidth=0.8, edgecolor='0.3',  cmap='Greens', legend=True, categorical=True)"
   ]
  },
  {
   "cell_type": "markdown",
   "id": "normal-content",
   "metadata": {},
   "source": [
    "### ¿Qué caracteriza a cada punto de concentración de delitos y qué tienen en común?"
   ]
  },
  {
   "cell_type": "markdown",
   "id": "handy-allowance",
   "metadata": {},
   "source": [
    "Los puntos dentro de un mismo cluster justamente comparten las características con las que fueron construidos, que son en este caso la ubicación geográfica y el indicador de inseguridad. Por ejemplo sabemos que el cluster 1 es el que tiene mayor indice de inseguridad y esta asociado principalmente a la delegación Cuauhtemoc"
   ]
  }
 ],
 "metadata": {
  "kernelspec": {
   "display_name": "datos_publicos",
   "language": "python",
   "name": "datos_publicos"
  },
  "language_info": {
   "codemirror_mode": {
    "name": "ipython",
    "version": 3
   },
   "file_extension": ".py",
   "mimetype": "text/x-python",
   "name": "python",
   "nbconvert_exporter": "python",
   "pygments_lexer": "ipython3",
   "version": "3.8.5"
  },
  "toc": {
   "base_numbering": 1,
   "nav_menu": {},
   "number_sections": true,
   "sideBar": true,
   "skip_h1_title": false,
   "title_cell": "Table of Contents",
   "title_sidebar": "Contents",
   "toc_cell": false,
   "toc_position": {},
   "toc_section_display": true,
   "toc_window_display": false
  }
 },
 "nbformat": 4,
 "nbformat_minor": 5
}
