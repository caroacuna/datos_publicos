{
 "cells": [
  {
   "cell_type": "markdown",
   "id": "different-instruction",
   "metadata": {},
   "source": [
    "# Caso BOPS"
   ]
  },
  {
   "cell_type": "markdown",
   "id": "placed-polish",
   "metadata": {},
   "source": [
    "**Resumen del problema**\n",
    "\n",
    "Objetivo de Home & Kitchen: Ventas habian crecido por 5 años pero luego se estabilizaron, quieren continuar creciendo\n",
    "\n",
    "BOPS: Buy Online Pickup at Store \n",
    "\n",
    "* Ventajas: \n",
    "\n",
    "    * Ahorro en costos de envio y entregas el mismo dia\n",
    "\n",
    "* Desventajas:\n",
    "\n",
    "    * Cooperación entre B&M y online\n",
    "    * B&M tenia que dar disponibilidad del inventario en tiempo real para todos los almacenes\n",
    "    * B&M tenía que reservarlos artículos una vez que se generara una orden online\n",
    "    * Todo lo anterior iba a ser gestionado por el personal de B&M pero las perdidas y ganancias se contabilizarían para la división online\n",
    "\n",
    "Implementación: Solo fue implementado en EU porque en Canada no se tuvo todo listo a tiempo\n",
    "\n",
    "Problemática: Al observar las ventas promedio en un periodo de 6 meses antes y despues de BOPS los resultados indican que BOPS empeoro las ventas. Sin embargo, esta información podría no estar contemplando otros factores por lo que se requiere profundizar más en los resultados"
   ]
  },
  {
   "cell_type": "markdown",
   "id": "olympic-canberra",
   "metadata": {},
   "source": [
    "Diccionario:\n",
    "\n",
    "* legacy retail chains:  companies who have been around for 30, 50, 100 years\n",
    "* Brick & Mortar: Estos comercios tienen como única protagonista de su oferta comercial a la tienda física."
   ]
  },
  {
   "cell_type": "markdown",
   "id": "weekly-reproduction",
   "metadata": {},
   "source": [
    "<font  size=5>Planteamiento de la solución"
   ]
  },
  {
   "cell_type": "markdown",
   "id": "critical-handy",
   "metadata": {},
   "source": [
    "* Para verificar el efecto de la implementación de OPS en las tiendas de Estados Unidos se utilizará el hint que se indica en la pregunta que es usar las tiendas de Canada y las que se encuentran lejos como **grupo control**. \n",
    "\n",
    "* Idealmente haríamos A/B testing para verificar la efectividad de la iniciativa BOPS, pero por cuestión de tiempo simplificaremos bastante el proceso y asumiremos que cualquier diferencia encontrada entre grupo control y grupo tratamiento es significativa; es decir no se planteara formalmente una hipótesis relacionada a la distribución de nuestra variable a medir.\n",
    "\n",
    "* Se replicara la tabla mostrada en el pdf de los resultados de ventas pero partira para grupo control y grupo de tratamiento. Además que usaremos la mediana en vez del promedio por se un estadístico más robusto."
   ]
  },
  {
   "cell_type": "markdown",
   "id": "individual-peninsula",
   "metadata": {},
   "source": [
    "<font  size=5> Definición de grupo control y grupo tratamiento"
   ]
  },
  {
   "cell_type": "markdown",
   "id": "harmful-chrome",
   "metadata": {},
   "source": [
    "* Ventas B&M\n",
    "    * Grupo control: Tiendas en Canada (en la que no se implemento BOPS)\n",
    "    * Grupo tratamiento: Tiendas en USA\n",
    "\n",
    "* Ventas online\n",
    "\n",
    "    * Grupo control: DMA que no se encuentren a menos de 50 millas de una tienda física (se asume que la gente en estas zonas no estaría dispuesta a recoger el pedido en una tienda física)\n",
    "    * Grupo tratamiento: DMA que se encuentren a menos de 50 millas de una tienda física"
   ]
  },
  {
   "cell_type": "code",
   "execution_count": 1,
   "id": "automatic-series",
   "metadata": {},
   "outputs": [],
   "source": [
    "import pandas as pd\n",
    "import numpy as np\n",
    "import matplotlib.pyplot as plt"
   ]
  },
  {
   "cell_type": "code",
   "execution_count": 2,
   "id": "greenhouse-freeware",
   "metadata": {},
   "outputs": [],
   "source": [
    "pd.options.display.float_format = '{:,.4f}'.format"
   ]
  },
  {
   "cell_type": "code",
   "execution_count": 3,
   "id": "pleasant-korea",
   "metadata": {},
   "outputs": [],
   "source": [
    "bm = pd.read_csv('datos_bops/bops_bm.csv')\n",
    "online = pd.read_csv('datos_bops/bops_online.csv')"
   ]
  },
  {
   "cell_type": "code",
   "execution_count": 4,
   "id": "subtle-electron",
   "metadata": {},
   "outputs": [],
   "source": [
    "bm.columns = bm.columns.str.rstrip().str.lstrip()\n",
    "online.columns = online.columns.str.rstrip().str.lstrip()"
   ]
  },
  {
   "cell_type": "code",
   "execution_count": 5,
   "id": "utility-verification",
   "metadata": {},
   "outputs": [],
   "source": [
    "bm['sales'] = bm['sales'].apply(lambda x: float(x.replace(',', '')))\n",
    "online['sales'] = online['sales'].apply(lambda x: float(x.replace(',', '')))"
   ]
  },
  {
   "cell_type": "code",
   "execution_count": 6,
   "id": "technological-virgin",
   "metadata": {},
   "outputs": [],
   "source": [
    "control_bm = bm[bm.usa==0]\n",
    "tratamiento_bm = bm[bm.usa==1]"
   ]
  },
  {
   "cell_type": "code",
   "execution_count": 7,
   "id": "decreased-sustainability",
   "metadata": {},
   "outputs": [],
   "source": [
    "control_online = online[online.close==0]\n",
    "tratamiento_online = online[online.close==1]"
   ]
  },
  {
   "cell_type": "code",
   "execution_count": 8,
   "id": "synthetic-trouble",
   "metadata": {},
   "outputs": [],
   "source": [
    "def regresa_resultados(tipo, df_control, df_tratamiento, metric='median'):\n",
    "    results = pd.DataFrame()\n",
    "    results.loc[tipo, 'num_semanas_after'] = len(df_tratamiento[df_tratamiento.after==1].week.unique())\n",
    "    results.loc[tipo, 'before_BOPS_control'] = df_control[df_control.after==0].groupby(['week'])['sales'].sum().apply(metric)\n",
    "    results.loc[tipo, 'after_BOPS_control'] = df_control[df_control.after==1].groupby(['week'])['sales'].sum().apply(metric)\n",
    "    results.loc[tipo, 'cambio_control'] = float(results.loc[tipo, 'after_BOPS_control'] - results.loc[tipo, 'before_BOPS_control'])/results.loc[tipo, 'before_BOPS_control']\n",
    "    results.loc[tipo, 'before_BOPS_tratamiento'] = df_tratamiento[df_tratamiento.after==0].groupby(['week'])['sales'].sum().apply(metric)\n",
    "    results.loc[tipo, 'after_BOPS_tratamiento'] = df_tratamiento[df_tratamiento.after==1].groupby(['week'])['sales'].sum().apply(metric)\n",
    "    results.loc[tipo, 'cambio_tratamiento'] = float(results.loc[tipo, 'after_BOPS_tratamiento'] - results.loc[tipo, 'before_BOPS_tratamiento'])/results.loc[tipo, 'before_BOPS_tratamiento']\n",
    "    return results"
   ]
  },
  {
   "cell_type": "code",
   "execution_count": 9,
   "id": "quality-township",
   "metadata": {},
   "outputs": [],
   "source": [
    "mediana_ventas_semana = pd.concat([regresa_resultados('online', control_online, tratamiento_online), regresa_resultados('bm', control_bm, tratamiento_bm)])"
   ]
  },
  {
   "cell_type": "code",
   "execution_count": 10,
   "id": "burning-survival",
   "metadata": {
    "scrolled": true
   },
   "outputs": [
    {
     "data": {
      "text/html": [
       "<div>\n",
       "<style scoped>\n",
       "    .dataframe tbody tr th:only-of-type {\n",
       "        vertical-align: middle;\n",
       "    }\n",
       "\n",
       "    .dataframe tbody tr th {\n",
       "        vertical-align: top;\n",
       "    }\n",
       "\n",
       "    .dataframe thead th {\n",
       "        text-align: right;\n",
       "    }\n",
       "</style>\n",
       "<table border=\"1\" class=\"dataframe\">\n",
       "  <thead>\n",
       "    <tr style=\"text-align: right;\">\n",
       "      <th></th>\n",
       "      <th>num_semanas_after</th>\n",
       "      <th>before_BOPS_control</th>\n",
       "      <th>after_BOPS_control</th>\n",
       "      <th>cambio_control</th>\n",
       "      <th>before_BOPS_tratamiento</th>\n",
       "      <th>after_BOPS_tratamiento</th>\n",
       "      <th>cambio_tratamiento</th>\n",
       "    </tr>\n",
       "  </thead>\n",
       "  <tbody>\n",
       "    <tr>\n",
       "      <th>online</th>\n",
       "      <td>25.0000</td>\n",
       "      <td>1,561,343.0000</td>\n",
       "      <td>1,086,564.0000</td>\n",
       "      <td>-0.3041</td>\n",
       "      <td>1,223,426.0000</td>\n",
       "      <td>924,223.0000</td>\n",
       "      <td>-0.2446</td>\n",
       "    </tr>\n",
       "    <tr>\n",
       "      <th>bm</th>\n",
       "      <td>27.0000</td>\n",
       "      <td>1,025,271.0000</td>\n",
       "      <td>790,660.0000</td>\n",
       "      <td>-0.2288</td>\n",
       "      <td>4,113,463.0000</td>\n",
       "      <td>3,492,680.0000</td>\n",
       "      <td>-0.1509</td>\n",
       "    </tr>\n",
       "  </tbody>\n",
       "</table>\n",
       "</div>"
      ],
      "text/plain": [
       "        num_semanas_after  before_BOPS_control  after_BOPS_control  \\\n",
       "online            25.0000       1,561,343.0000      1,086,564.0000   \n",
       "bm                27.0000       1,025,271.0000        790,660.0000   \n",
       "\n",
       "        cambio_control  before_BOPS_tratamiento  after_BOPS_tratamiento  \\\n",
       "online         -0.3041           1,223,426.0000            924,223.0000   \n",
       "bm             -0.2288           4,113,463.0000          3,492,680.0000   \n",
       "\n",
       "        cambio_tratamiento  \n",
       "online             -0.2446  \n",
       "bm                 -0.1509  "
      ]
     },
     "execution_count": 10,
     "metadata": {},
     "output_type": "execute_result"
    }
   ],
   "source": [
    "mediana_ventas_semana"
   ]
  },
  {
   "cell_type": "code",
   "execution_count": 11,
   "id": "satisfied-grave",
   "metadata": {},
   "outputs": [
    {
     "data": {
      "image/png": "[encoded data removed]",
      "text/plain": [
       "<Figure size 432x288 with 1 Axes>"
      ]
     },
     "metadata": {
      "needs_background": "light"
     },
     "output_type": "display_data"
    }
   ],
   "source": [
    "mediana_ventas_semana[['cambio_control', 'cambio_tratamiento']].plot(kind='bar', title='Cambio porcentual en la mediana de ventas semanales \\n antes y después de BOPS')\n",
    "plt.legend(bbox_to_anchor=(1, 1))\n",
    "plt.show()"
   ]
  },
  {
   "cell_type": "code",
   "execution_count": 12,
   "id": "compatible-smoke",
   "metadata": {},
   "outputs": [],
   "source": [
    "promedio_ventas_semana = pd.concat([regresa_resultados('online', control_online, tratamiento_online, 'mean'), regresa_resultados('bm', control_bm, tratamiento_bm, 'mean')])"
   ]
  },
  {
   "cell_type": "code",
   "execution_count": 13,
   "id": "acute-circle",
   "metadata": {},
   "outputs": [
    {
     "data": {
      "text/html": [
       "<div>\n",
       "<style scoped>\n",
       "    .dataframe tbody tr th:only-of-type {\n",
       "        vertical-align: middle;\n",
       "    }\n",
       "\n",
       "    .dataframe tbody tr th {\n",
       "        vertical-align: top;\n",
       "    }\n",
       "\n",
       "    .dataframe thead th {\n",
       "        text-align: right;\n",
       "    }\n",
       "</style>\n",
       "<table border=\"1\" class=\"dataframe\">\n",
       "  <thead>\n",
       "    <tr style=\"text-align: right;\">\n",
       "      <th></th>\n",
       "      <th>num_semanas_after</th>\n",
       "      <th>before_BOPS_control</th>\n",
       "      <th>after_BOPS_control</th>\n",
       "      <th>cambio_control</th>\n",
       "      <th>before_BOPS_tratamiento</th>\n",
       "      <th>after_BOPS_tratamiento</th>\n",
       "      <th>cambio_tratamiento</th>\n",
       "    </tr>\n",
       "  </thead>\n",
       "  <tbody>\n",
       "    <tr>\n",
       "      <th>online</th>\n",
       "      <td>25.0000</td>\n",
       "      <td>1,558,447.7692</td>\n",
       "      <td>1,386,646.6000</td>\n",
       "      <td>-0.1102</td>\n",
       "      <td>1,256,885.1923</td>\n",
       "      <td>1,082,283.6800</td>\n",
       "      <td>-0.1389</td>\n",
       "    </tr>\n",
       "    <tr>\n",
       "      <th>bm</th>\n",
       "      <td>27.0000</td>\n",
       "      <td>1,034,979.7407</td>\n",
       "      <td>866,241.0741</td>\n",
       "      <td>-0.1630</td>\n",
       "      <td>4,132,262.6296</td>\n",
       "      <td>3,698,465.8148</td>\n",
       "      <td>-0.1050</td>\n",
       "    </tr>\n",
       "  </tbody>\n",
       "</table>\n",
       "</div>"
      ],
      "text/plain": [
       "        num_semanas_after  before_BOPS_control  after_BOPS_control  \\\n",
       "online            25.0000       1,558,447.7692      1,386,646.6000   \n",
       "bm                27.0000       1,034,979.7407        866,241.0741   \n",
       "\n",
       "        cambio_control  before_BOPS_tratamiento  after_BOPS_tratamiento  \\\n",
       "online         -0.1102           1,256,885.1923          1,082,283.6800   \n",
       "bm             -0.1630           4,132,262.6296          3,698,465.8148   \n",
       "\n",
       "        cambio_tratamiento  \n",
       "online             -0.1389  \n",
       "bm                 -0.1050  "
      ]
     },
     "execution_count": 13,
     "metadata": {},
     "output_type": "execute_result"
    }
   ],
   "source": [
    "promedio_ventas_semana"
   ]
  },
  {
   "cell_type": "code",
   "execution_count": 14,
   "id": "compressed-plaintiff",
   "metadata": {
    "scrolled": true
   },
   "outputs": [
    {
     "data": {
      "image/png": "[encoded data removed]",
      "text/plain": [
       "<Figure size 432x288 with 1 Axes>"
      ]
     },
     "metadata": {
      "needs_background": "light"
     },
     "output_type": "display_data"
    }
   ],
   "source": [
    "promedio_ventas_semana[['cambio_control', 'cambio_tratamiento']].plot(kind='bar', title='Cambio porcentual en el promedio de ventas semanales \\n antes y después de BOPS')\n",
    "plt.legend(bbox_to_anchor=(1, 1))\n",
    "plt.show()"
   ]
  },
  {
   "cell_type": "markdown",
   "id": "speaking-miami",
   "metadata": {},
   "source": [
    "## Interpretación:\n",
    "* Tanto en el grupo control como en el tratamiento se observo una caida en las ventas en el segundo periodo de observación (October 11, 2011–April 11, 2012)\n",
    "* Al observar la mediana de precios por semana, observamos que la caída en ventas fue menor para el grupo tratamiento tanto online como B&M. Esto indicaría que la implementacion de BOPS fue exitosa porque ayudo reducir la caida en ventas\n",
    "* Al observar el promedio de precios por semana observamos que la caída en ventas fue menor para el grupo tratamiento de B&M, mientras que para las operaciones online la caída en ventas fue  mayor para el grupo tratamiento. Los resultados no son concluyentes para este caso, sin embargo nos quedaremos con el inciso anterior porque como mencionamos arriba la mediana es una métrica más robusta y es preferible para este problema."
   ]
  },
  {
   "cell_type": "markdown",
   "id": "attempted-amsterdam",
   "metadata": {},
   "source": [
    "## Preguntas:\n",
    "1. ¿Deberían expandirse a Canadá?\n",
    "\n",
    "Si, por lo explicado en el apartado previo"
   ]
  },
  {
   "cell_type": "markdown",
   "id": "built-purple",
   "metadata": {},
   "source": [
    "2. ¿Cuántos millones de dólares se ganaron o perdieron a partir del programa?"
   ]
  },
  {
   "cell_type": "markdown",
   "id": "presidential-daughter",
   "metadata": {},
   "source": [
    "De manera aproximada podríamos decir que se ganó todo lo que se hubiera perdido de no haber implemetando el programa (para el grupo tratamiento) menos el costo de la implementación. Entonces la fórmula queda asi:\n",
    "\n",
    "**Ganancia aproximada** = Estimación de perdidas no ocurridas por semana * numero de semanas - costo de la implementación\n",
    "\n",
    "Para estimar las pérdidas que hubieran ocurrido de no haberse implementado BOPS se aplicarán los porcentajes de cambio ocurridos en grupo control y la diferencia entre esto y lo que ocurrio será la estimación en ganancia semanal"
   ]
  },
  {
   "cell_type": "code",
   "execution_count": 15,
   "id": "explicit-tradition",
   "metadata": {},
   "outputs": [],
   "source": [
    "mediana_ventas_semana['estimacion_after_sin_BOPS'] = mediana_ventas_semana['before_BOPS_tratamiento']*(1+ mediana_ventas_semana['cambio_control'])\n",
    "mediana_ventas_semana['estimacion_ganancia_semanal'] = mediana_ventas_semana['after_BOPS_tratamiento'] - mediana_ventas_semana['estimacion_after_sin_BOPS']\n",
    "mediana_ventas_semana['estimacion_ganancia'] = mediana_ventas_semana['estimacion_ganancia_semanal']* mediana_ventas_semana['num_semanas_after']"
   ]
  },
  {
   "cell_type": "code",
   "execution_count": 16,
   "id": "rental-aluminum",
   "metadata": {},
   "outputs": [
    {
     "data": {
      "text/html": [
       "<div>\n",
       "<style scoped>\n",
       "    .dataframe tbody tr th:only-of-type {\n",
       "        vertical-align: middle;\n",
       "    }\n",
       "\n",
       "    .dataframe tbody tr th {\n",
       "        vertical-align: top;\n",
       "    }\n",
       "\n",
       "    .dataframe thead th {\n",
       "        text-align: right;\n",
       "    }\n",
       "</style>\n",
       "<table border=\"1\" class=\"dataframe\">\n",
       "  <thead>\n",
       "    <tr style=\"text-align: right;\">\n",
       "      <th></th>\n",
       "      <th>num_semanas_after</th>\n",
       "      <th>before_BOPS_control</th>\n",
       "      <th>after_BOPS_control</th>\n",
       "      <th>cambio_control</th>\n",
       "      <th>before_BOPS_tratamiento</th>\n",
       "      <th>after_BOPS_tratamiento</th>\n",
       "      <th>cambio_tratamiento</th>\n",
       "      <th>estimacion_after_sin_BOPS</th>\n",
       "      <th>estimacion_ganancia_semanal</th>\n",
       "      <th>estimacion_ganancia</th>\n",
       "    </tr>\n",
       "  </thead>\n",
       "  <tbody>\n",
       "    <tr>\n",
       "      <th>online</th>\n",
       "      <td>25.0000</td>\n",
       "      <td>1,561,343.0000</td>\n",
       "      <td>1,086,564.0000</td>\n",
       "      <td>-0.3041</td>\n",
       "      <td>1,223,426.0000</td>\n",
       "      <td>924,223.0000</td>\n",
       "      <td>-0.2446</td>\n",
       "      <td>851,402.0611</td>\n",
       "      <td>72,820.9389</td>\n",
       "      <td>1,820,523.4728</td>\n",
       "    </tr>\n",
       "    <tr>\n",
       "      <th>bm</th>\n",
       "      <td>27.0000</td>\n",
       "      <td>1,025,271.0000</td>\n",
       "      <td>790,660.0000</td>\n",
       "      <td>-0.2288</td>\n",
       "      <td>4,113,463.0000</td>\n",
       "      <td>3,492,680.0000</td>\n",
       "      <td>-0.1509</td>\n",
       "      <td>3,172,186.3347</td>\n",
       "      <td>320,493.6653</td>\n",
       "      <td>8,653,328.9627</td>\n",
       "    </tr>\n",
       "  </tbody>\n",
       "</table>\n",
       "</div>"
      ],
      "text/plain": [
       "        num_semanas_after  before_BOPS_control  after_BOPS_control  \\\n",
       "online            25.0000       1,561,343.0000      1,086,564.0000   \n",
       "bm                27.0000       1,025,271.0000        790,660.0000   \n",
       "\n",
       "        cambio_control  before_BOPS_tratamiento  after_BOPS_tratamiento  \\\n",
       "online         -0.3041           1,223,426.0000            924,223.0000   \n",
       "bm             -0.2288           4,113,463.0000          3,492,680.0000   \n",
       "\n",
       "        cambio_tratamiento  estimacion_after_sin_BOPS  \\\n",
       "online             -0.2446               851,402.0611   \n",
       "bm                 -0.1509             3,172,186.3347   \n",
       "\n",
       "        estimacion_ganancia_semanal  estimacion_ganancia  \n",
       "online                  72,820.9389       1,820,523.4728  \n",
       "bm                     320,493.6653       8,653,328.9627  "
      ]
     },
     "execution_count": 16,
     "metadata": {},
     "output_type": "execute_result"
    }
   ],
   "source": [
    "mediana_ventas_semana"
   ]
  },
  {
   "cell_type": "code",
   "execution_count": 17,
   "id": "alive-porter",
   "metadata": {},
   "outputs": [],
   "source": [
    "estimacion = mediana_ventas_semana.estimacion_ganancia.sum() #Numero prom de semanas para online y "
   ]
  },
  {
   "cell_type": "code",
   "execution_count": 18,
   "id": "sensitive-dairy",
   "metadata": {},
   "outputs": [
    {
     "name": "stdout",
     "output_type": "stream",
     "text": [
      "La ganancia aproximada por haber implementado BOPS es de $10,473,852 menos el costo de la implementación de BOPS\n"
     ]
    }
   ],
   "source": [
    "print(f\"La ganancia aproximada por haber implementado BOPS es de ${estimacion:,.0f} menos el costo de la implementación de BOPS\")"
   ]
  },
  {
   "cell_type": "code",
   "execution_count": null,
   "id": "prospective-burning",
   "metadata": {},
   "outputs": [],
   "source": []
  }
 ],
 "metadata": {
  "kernelspec": {
   "display_name": "datos_publicos",
   "language": "python",
   "name": "datos_publicos"
  },
  "language_info": {
   "codemirror_mode": {
    "name": "ipython",
    "version": 3
   },
   "file_extension": ".py",
   "mimetype": "text/x-python",
   "name": "python",
   "nbconvert_exporter": "python",
   "pygments_lexer": "ipython3",
   "version": "3.8.5"
  },
  "toc": {
   "base_numbering": 1,
   "nav_menu": {},
   "number_sections": true,
   "sideBar": true,
   "skip_h1_title": false,
   "title_cell": "Table of Contents",
   "title_sidebar": "Contents",
   "toc_cell": false,
   "toc_position": {},
   "toc_section_display": true,
   "toc_window_display": false
  }
 },
 "nbformat": 4,
 "nbformat_minor": 5
}
